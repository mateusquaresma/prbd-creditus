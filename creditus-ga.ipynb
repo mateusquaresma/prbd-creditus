{
 "cells": [
  {
   "cell_type": "code",
   "execution_count": 1,
   "metadata": {},
   "outputs": [],
   "source": [
    "import numpy as np\n",
    "import pandas as pd\n",
    "import random as rnd"
   ]
  },
  {
   "cell_type": "code",
   "execution_count": 2,
   "metadata": {},
   "outputs": [],
   "source": [
    "def fitness(theta, no_result, examples):\n",
    "    nac = 0\n",
    "    nic = 0\n",
    "    ta = 0\n",
    "    ti = 0\n",
    "    \n",
    "    # Cria um array contendo 100 indices que serão visitados na matriz original, para testar a qualidade deste cromossomo\n",
    "    indexes = np.random.randint(no_result.shape[0], size=100)\n",
    "\n",
    "    for i in indexes:\n",
    "        cr = no_result.iloc[i] * theta\n",
    "        cr_sum = cr.sum()\n",
    "        if ((cr_sum > 0) and (examples.iloc[i].Resultado == \"A\")):\n",
    "            nac += 1\n",
    "        elif ((cr_sum < 0) and (examples.iloc[i].Resultado == \"I\")):\n",
    "            nic += 1\n",
    "            \n",
    "        if (examples.iloc[i].Resultado == \"A\"):\n",
    "            ta += 1\n",
    "        else:\n",
    "            ti += 1\n",
    "\n",
    "    return (nac * nic) / (ta * ti)"
   ]
  },
  {
   "cell_type": "code",
   "execution_count": 3,
   "metadata": {},
   "outputs": [],
   "source": [
    "def gen_cr(features, amount=1):\n",
    "    if amount > 1:\n",
    "        return np.random.uniform(low=-1., high=1., size=(amount, features))\n",
    "    else:\n",
    "        return np.random.uniform(low=-1., high=1., size=features)"
   ]
  },
  {
   "cell_type": "code",
   "execution_count": 4,
   "metadata": {},
   "outputs": [],
   "source": [
    "def crossover(first, second, amount=3):\n",
    "    parent_size = first.size\n",
    "    offsprings = []\n",
    "\n",
    "    for i in range(amount):\n",
    "        random_index = np.random.randint(parent_size-1, size=1)[0]\n",
    "        first_part = first[:random_index]\n",
    "        second_part = second[random_index:]\n",
    "        offspring = np.append(first_part, second_part)\n",
    "        offsprings.append(offspring)\n",
    "    \n",
    "    return np.array(offsprings)"
   ]
  },
  {
   "cell_type": "code",
   "execution_count": 5,
   "metadata": {},
   "outputs": [],
   "source": [
    "def mutate(cr):\n",
    "    # print(cr)\n",
    "    random_cr_index = np.random.randint(cr.size-1, size=1)[0]\n",
    "    # print(random_cr_index)\n",
    "    random_value = np.random.uniform(low=-1., high=1., size=no_result.shape[1])[0]\n",
    "    # print(random_value)\n",
    "    cr[random_cr_index] = random_value\n",
    "    return cr"
   ]
  },
  {
   "cell_type": "code",
   "execution_count": 6,
   "metadata": {},
   "outputs": [],
   "source": [
    "def maximum2(data):\n",
    "    copied = data.copy()\n",
    "    sorted_data = np.sort(copied)\n",
    "    return (sorted_data[-1], sorted_data[-2])"
   ]
  },
  {
   "cell_type": "code",
   "execution_count": 7,
   "metadata": {},
   "outputs": [],
   "source": [
    "def minimum2(data):\n",
    "    copied = data.copy()\n",
    "    sorted_data = np.sort(copied)\n",
    "    return (sorted_data[0], sorted_data[1])"
   ]
  },
  {
   "cell_type": "code",
   "execution_count": 8,
   "metadata": {},
   "outputs": [],
   "source": [
    "def wheel_of_chance(fitness_array):\n",
    "    cumulative_sum = np.array(fitness_array).cumsum()\n",
    "    return rnd.uniform(0, max(cumulative_sum))"
   ]
  },
  {
   "cell_type": "code",
   "execution_count": 9,
   "metadata": {},
   "outputs": [],
   "source": [
    "def choose_parents(cr_database):\n",
    "    return np.random.randint(cr_database.shape[0], size=2)"
   ]
  },
  {
   "cell_type": "code",
   "execution_count": 10,
   "metadata": {},
   "outputs": [],
   "source": [
    "examples = pd.read_csv(\"data/creditus-data.csv\", sep=\";\", index_col=0, header=0)"
   ]
  },
  {
   "cell_type": "code",
   "execution_count": 11,
   "metadata": {
    "scrolled": true
   },
   "outputs": [
    {
     "data": {
      "text/html": [
       "<div>\n",
       "<style scoped>\n",
       "    .dataframe tbody tr th:only-of-type {\n",
       "        vertical-align: middle;\n",
       "    }\n",
       "\n",
       "    .dataframe tbody tr th {\n",
       "        vertical-align: top;\n",
       "    }\n",
       "\n",
       "    .dataframe thead th {\n",
       "        text-align: right;\n",
       "    }\n",
       "</style>\n",
       "<table border=\"1\" class=\"dataframe\">\n",
       "  <thead>\n",
       "    <tr style=\"text-align: right;\">\n",
       "      <th></th>\n",
       "      <th>X11</th>\n",
       "      <th>X12</th>\n",
       "      <th>X21</th>\n",
       "      <th>X22</th>\n",
       "      <th>X31</th>\n",
       "      <th>X32</th>\n",
       "      <th>X41</th>\n",
       "      <th>X42</th>\n",
       "      <th>X51</th>\n",
       "      <th>X52</th>\n",
       "      <th>X61</th>\n",
       "      <th>X62</th>\n",
       "      <th>X71</th>\n",
       "      <th>X72</th>\n",
       "      <th>X81</th>\n",
       "      <th>X82</th>\n",
       "      <th>X91</th>\n",
       "      <th>X92</th>\n",
       "      <th>Resultado</th>\n",
       "    </tr>\n",
       "  </thead>\n",
       "  <tbody>\n",
       "    <tr>\n",
       "      <th>Y001</th>\n",
       "      <td>1</td>\n",
       "      <td>0</td>\n",
       "      <td>0</td>\n",
       "      <td>1</td>\n",
       "      <td>1</td>\n",
       "      <td>0</td>\n",
       "      <td>0</td>\n",
       "      <td>1</td>\n",
       "      <td>0</td>\n",
       "      <td>1</td>\n",
       "      <td>1</td>\n",
       "      <td>0</td>\n",
       "      <td>0</td>\n",
       "      <td>1</td>\n",
       "      <td>1</td>\n",
       "      <td>0</td>\n",
       "      <td>1</td>\n",
       "      <td>0</td>\n",
       "      <td>A</td>\n",
       "    </tr>\n",
       "    <tr>\n",
       "      <th>Y002</th>\n",
       "      <td>0</td>\n",
       "      <td>1</td>\n",
       "      <td>0</td>\n",
       "      <td>1</td>\n",
       "      <td>1</td>\n",
       "      <td>0</td>\n",
       "      <td>0</td>\n",
       "      <td>1</td>\n",
       "      <td>0</td>\n",
       "      <td>1</td>\n",
       "      <td>1</td>\n",
       "      <td>0</td>\n",
       "      <td>0</td>\n",
       "      <td>1</td>\n",
       "      <td>1</td>\n",
       "      <td>0</td>\n",
       "      <td>1</td>\n",
       "      <td>0</td>\n",
       "      <td>A</td>\n",
       "    </tr>\n",
       "    <tr>\n",
       "      <th>Y003</th>\n",
       "      <td>1</td>\n",
       "      <td>0</td>\n",
       "      <td>1</td>\n",
       "      <td>0</td>\n",
       "      <td>0</td>\n",
       "      <td>1</td>\n",
       "      <td>1</td>\n",
       "      <td>0</td>\n",
       "      <td>1</td>\n",
       "      <td>0</td>\n",
       "      <td>0</td>\n",
       "      <td>1</td>\n",
       "      <td>1</td>\n",
       "      <td>0</td>\n",
       "      <td>0</td>\n",
       "      <td>1</td>\n",
       "      <td>0</td>\n",
       "      <td>1</td>\n",
       "      <td>I</td>\n",
       "    </tr>\n",
       "    <tr>\n",
       "      <th>Y004</th>\n",
       "      <td>1</td>\n",
       "      <td>0</td>\n",
       "      <td>1</td>\n",
       "      <td>0</td>\n",
       "      <td>0</td>\n",
       "      <td>1</td>\n",
       "      <td>1</td>\n",
       "      <td>0</td>\n",
       "      <td>1</td>\n",
       "      <td>0</td>\n",
       "      <td>0</td>\n",
       "      <td>1</td>\n",
       "      <td>1</td>\n",
       "      <td>0</td>\n",
       "      <td>0</td>\n",
       "      <td>1</td>\n",
       "      <td>0</td>\n",
       "      <td>1</td>\n",
       "      <td>I</td>\n",
       "    </tr>\n",
       "    <tr>\n",
       "      <th>Y005</th>\n",
       "      <td>0</td>\n",
       "      <td>1</td>\n",
       "      <td>0</td>\n",
       "      <td>1</td>\n",
       "      <td>1</td>\n",
       "      <td>0</td>\n",
       "      <td>0</td>\n",
       "      <td>1</td>\n",
       "      <td>0</td>\n",
       "      <td>1</td>\n",
       "      <td>1</td>\n",
       "      <td>0</td>\n",
       "      <td>0</td>\n",
       "      <td>1</td>\n",
       "      <td>1</td>\n",
       "      <td>0</td>\n",
       "      <td>1</td>\n",
       "      <td>0</td>\n",
       "      <td>A</td>\n",
       "    </tr>\n",
       "  </tbody>\n",
       "</table>\n",
       "</div>"
      ],
      "text/plain": [
       "      X11  X12  X21  X22  X31  X32  X41  X42  X51  X52  X61  X62  X71  X72  \\\n",
       "Y001    1    0    0    1    1    0    0    1    0    1    1    0    0    1   \n",
       "Y002    0    1    0    1    1    0    0    1    0    1    1    0    0    1   \n",
       "Y003    1    0    1    0    0    1    1    0    1    0    0    1    1    0   \n",
       "Y004    1    0    1    0    0    1    1    0    1    0    0    1    1    0   \n",
       "Y005    0    1    0    1    1    0    0    1    0    1    1    0    0    1   \n",
       "\n",
       "      X81  X82  X91  X92 Resultado  \n",
       "Y001    1    0    1    0         A  \n",
       "Y002    1    0    1    0         A  \n",
       "Y003    0    1    0    1         I  \n",
       "Y004    0    1    0    1         I  \n",
       "Y005    1    0    1    0         A  "
      ]
     },
     "execution_count": 11,
     "metadata": {},
     "output_type": "execute_result"
    }
   ],
   "source": [
    "examples.head(5)"
   ]
  },
  {
   "cell_type": "code",
   "execution_count": 12,
   "metadata": {},
   "outputs": [],
   "source": [
    "# Variáveis do problema, conforme apostila\n",
    "# ta = examples[examples.Resultado == 'A'].shape[0]  # número total de adimplentes \n",
    "# ti = examples[examples.Resultado == 'I'].shape[0]  # número total de inadimplentes"
   ]
  },
  {
   "cell_type": "code",
   "execution_count": 13,
   "metadata": {},
   "outputs": [],
   "source": [
    "no_result = examples.drop([\"Resultado\"], axis = 1)"
   ]
  },
  {
   "cell_type": "code",
   "execution_count": 14,
   "metadata": {},
   "outputs": [
    {
     "data": {
      "text/html": [
       "<div>\n",
       "<style scoped>\n",
       "    .dataframe tbody tr th:only-of-type {\n",
       "        vertical-align: middle;\n",
       "    }\n",
       "\n",
       "    .dataframe tbody tr th {\n",
       "        vertical-align: top;\n",
       "    }\n",
       "\n",
       "    .dataframe thead th {\n",
       "        text-align: right;\n",
       "    }\n",
       "</style>\n",
       "<table border=\"1\" class=\"dataframe\">\n",
       "  <thead>\n",
       "    <tr style=\"text-align: right;\">\n",
       "      <th></th>\n",
       "      <th>X11</th>\n",
       "      <th>X12</th>\n",
       "      <th>X21</th>\n",
       "      <th>X22</th>\n",
       "      <th>X31</th>\n",
       "      <th>X32</th>\n",
       "      <th>X41</th>\n",
       "      <th>X42</th>\n",
       "      <th>X51</th>\n",
       "      <th>X52</th>\n",
       "      <th>X61</th>\n",
       "      <th>X62</th>\n",
       "      <th>X71</th>\n",
       "      <th>X72</th>\n",
       "      <th>X81</th>\n",
       "      <th>X82</th>\n",
       "      <th>X91</th>\n",
       "      <th>X92</th>\n",
       "    </tr>\n",
       "  </thead>\n",
       "  <tbody>\n",
       "    <tr>\n",
       "      <th>Y001</th>\n",
       "      <td>1</td>\n",
       "      <td>0</td>\n",
       "      <td>0</td>\n",
       "      <td>1</td>\n",
       "      <td>1</td>\n",
       "      <td>0</td>\n",
       "      <td>0</td>\n",
       "      <td>1</td>\n",
       "      <td>0</td>\n",
       "      <td>1</td>\n",
       "      <td>1</td>\n",
       "      <td>0</td>\n",
       "      <td>0</td>\n",
       "      <td>1</td>\n",
       "      <td>1</td>\n",
       "      <td>0</td>\n",
       "      <td>1</td>\n",
       "      <td>0</td>\n",
       "    </tr>\n",
       "    <tr>\n",
       "      <th>Y002</th>\n",
       "      <td>0</td>\n",
       "      <td>1</td>\n",
       "      <td>0</td>\n",
       "      <td>1</td>\n",
       "      <td>1</td>\n",
       "      <td>0</td>\n",
       "      <td>0</td>\n",
       "      <td>1</td>\n",
       "      <td>0</td>\n",
       "      <td>1</td>\n",
       "      <td>1</td>\n",
       "      <td>0</td>\n",
       "      <td>0</td>\n",
       "      <td>1</td>\n",
       "      <td>1</td>\n",
       "      <td>0</td>\n",
       "      <td>1</td>\n",
       "      <td>0</td>\n",
       "    </tr>\n",
       "    <tr>\n",
       "      <th>Y003</th>\n",
       "      <td>1</td>\n",
       "      <td>0</td>\n",
       "      <td>1</td>\n",
       "      <td>0</td>\n",
       "      <td>0</td>\n",
       "      <td>1</td>\n",
       "      <td>1</td>\n",
       "      <td>0</td>\n",
       "      <td>1</td>\n",
       "      <td>0</td>\n",
       "      <td>0</td>\n",
       "      <td>1</td>\n",
       "      <td>1</td>\n",
       "      <td>0</td>\n",
       "      <td>0</td>\n",
       "      <td>1</td>\n",
       "      <td>0</td>\n",
       "      <td>1</td>\n",
       "    </tr>\n",
       "    <tr>\n",
       "      <th>Y004</th>\n",
       "      <td>1</td>\n",
       "      <td>0</td>\n",
       "      <td>1</td>\n",
       "      <td>0</td>\n",
       "      <td>0</td>\n",
       "      <td>1</td>\n",
       "      <td>1</td>\n",
       "      <td>0</td>\n",
       "      <td>1</td>\n",
       "      <td>0</td>\n",
       "      <td>0</td>\n",
       "      <td>1</td>\n",
       "      <td>1</td>\n",
       "      <td>0</td>\n",
       "      <td>0</td>\n",
       "      <td>1</td>\n",
       "      <td>0</td>\n",
       "      <td>1</td>\n",
       "    </tr>\n",
       "    <tr>\n",
       "      <th>Y005</th>\n",
       "      <td>0</td>\n",
       "      <td>1</td>\n",
       "      <td>0</td>\n",
       "      <td>1</td>\n",
       "      <td>1</td>\n",
       "      <td>0</td>\n",
       "      <td>0</td>\n",
       "      <td>1</td>\n",
       "      <td>0</td>\n",
       "      <td>1</td>\n",
       "      <td>1</td>\n",
       "      <td>0</td>\n",
       "      <td>0</td>\n",
       "      <td>1</td>\n",
       "      <td>1</td>\n",
       "      <td>0</td>\n",
       "      <td>1</td>\n",
       "      <td>0</td>\n",
       "    </tr>\n",
       "  </tbody>\n",
       "</table>\n",
       "</div>"
      ],
      "text/plain": [
       "      X11  X12  X21  X22  X31  X32  X41  X42  X51  X52  X61  X62  X71  X72  \\\n",
       "Y001    1    0    0    1    1    0    0    1    0    1    1    0    0    1   \n",
       "Y002    0    1    0    1    1    0    0    1    0    1    1    0    0    1   \n",
       "Y003    1    0    1    0    0    1    1    0    1    0    0    1    1    0   \n",
       "Y004    1    0    1    0    0    1    1    0    1    0    0    1    1    0   \n",
       "Y005    0    1    0    1    1    0    0    1    0    1    1    0    0    1   \n",
       "\n",
       "      X81  X82  X91  X92  \n",
       "Y001    1    0    1    0  \n",
       "Y002    1    0    1    0  \n",
       "Y003    0    1    0    1  \n",
       "Y004    0    1    0    1  \n",
       "Y005    1    0    1    0  "
      ]
     },
     "execution_count": 14,
     "metadata": {},
     "output_type": "execute_result"
    }
   ],
   "source": [
    "no_result.head(5)"
   ]
  },
  {
   "cell_type": "code",
   "execution_count": 15,
   "metadata": {},
   "outputs": [],
   "source": [
    "# Cria uma matriz de tamanho equivalente a matriz no_result\n",
    "random_values = np.random.uniform(low=-1., high=1., size=no_result.shape)"
   ]
  },
  {
   "cell_type": "code",
   "execution_count": 16,
   "metadata": {},
   "outputs": [],
   "source": [
    "# random_values"
   ]
  },
  {
   "cell_type": "code",
   "execution_count": 17,
   "metadata": {},
   "outputs": [],
   "source": [
    "cr = no_result * random_values"
   ]
  },
  {
   "cell_type": "code",
   "execution_count": 18,
   "metadata": {},
   "outputs": [],
   "source": [
    "# cr.head(5)"
   ]
  },
  {
   "cell_type": "code",
   "execution_count": 19,
   "metadata": {},
   "outputs": [],
   "source": [
    "cr_sum = cr.sum(axis=1)"
   ]
  },
  {
   "cell_type": "code",
   "execution_count": 20,
   "metadata": {},
   "outputs": [],
   "source": [
    "# cr_sum.head(5)"
   ]
  },
  {
   "cell_type": "code",
   "execution_count": 21,
   "metadata": {},
   "outputs": [],
   "source": [
    "#pd.Series(examples.Resultado).head(5)"
   ]
  },
  {
   "cell_type": "code",
   "execution_count": 22,
   "metadata": {},
   "outputs": [],
   "source": [
    "#cr_sum.head(5)"
   ]
  },
  {
   "cell_type": "code",
   "execution_count": 23,
   "metadata": {},
   "outputs": [],
   "source": [
    "# dict = {\n",
    "#     \"summation\": pd.Series(cr_sum),\n",
    "#     \"label\": pd.Series(examples.Resultado)\n",
    "# }"
   ]
  },
  {
   "cell_type": "code",
   "execution_count": 24,
   "metadata": {},
   "outputs": [],
   "source": [
    "#labeled_cr = pd.DataFrame(dict)"
   ]
  },
  {
   "cell_type": "code",
   "execution_count": 25,
   "metadata": {},
   "outputs": [],
   "source": [
    "#labeled_cr.head(5)"
   ]
  },
  {
   "cell_type": "code",
   "execution_count": 26,
   "metadata": {},
   "outputs": [],
   "source": [
    "# nac = labeled_cr[(labeled_cr.summation > 0) & (labeled_cr.label == \"A\")]\n",
    "# nic = labeled_cr[(labeled_cr.summation < 0) & (labeled_cr.label == \"I\")]"
   ]
  },
  {
   "cell_type": "code",
   "execution_count": 27,
   "metadata": {},
   "outputs": [],
   "source": [
    "# nac.head(5) # O cálculo do NAC e NIC ainda não fazem sentido..."
   ]
  },
  {
   "cell_type": "code",
   "execution_count": 28,
   "metadata": {},
   "outputs": [],
   "source": [
    "# Cria um array de tamanho equivalente à linha da matriz, parece mais conveniente que a abordagem anterior\n",
    "# random_theta = np.random.uniform(low=-1., high=1., size=no_result.shape[1])"
   ]
  },
  {
   "cell_type": "code",
   "execution_count": 29,
   "metadata": {},
   "outputs": [],
   "source": [
    "# fitness(random_theta, no_result, examples)"
   ]
  },
  {
   "cell_type": "code",
   "execution_count": 30,
   "metadata": {},
   "outputs": [],
   "source": [
    "cr_size = no_result.shape[1]\n",
    "# gen_cr(cr_size)"
   ]
  },
  {
   "cell_type": "code",
   "execution_count": 31,
   "metadata": {},
   "outputs": [],
   "source": [
    "# crossover(gen_cr(cr_size), gen_cr(cr_size), 3)"
   ]
  },
  {
   "cell_type": "code",
   "execution_count": 32,
   "metadata": {},
   "outputs": [],
   "source": [
    "# mutate(gen_cr(cr_size))\n",
    "cr_database = gen_cr(no_result.shape[1], 6) # gera os 6 cromossomos"
   ]
  },
  {
   "cell_type": "code",
   "execution_count": 34,
   "metadata": {},
   "outputs": [
    {
     "name": "stdout",
     "output_type": "stream",
     "text": [
      "[0.3525091799265606, 0.528, 0.46754857379082265, 0.5410036719706243, 0.5844155844155844, 0.33613445378151263]\n",
      "[0.4435717238528317, 0.3878787878787879, 0.4355680449618627, 0.40336134453781514, 0.48173424327579284, 0.3412284223203533]\n"
     ]
    }
   ],
   "source": [
    "gen_count = 5\n",
    "print([fitness(theta, no_result, examples) for theta in iter(cr_database)])\n",
    "for c in range(gen_count):\n",
    "    parent_indexes = choose_parents(cr_database)\n",
    "    first = cr_database[parent_indexes[0]]\n",
    "    second = cr_database[parent_indexes[1]]\n",
    "    offspring1 = crossover(first, second)\n",
    "    offspring2 = offspring1.copy()\n",
    "    for i in range(len(offspring2)):\n",
    "        offspring2[i] = mutate(offspring2[i])\n",
    "\n",
    "    offspring = np.concatenate((offspring1, offspring2))\n",
    "    db_fitness = [fitness(theta, no_result, examples) for theta in iter(cr_database)]\n",
    "    offspring_fitness = [fitness(theta, no_result, examples) for theta in iter(offspring)]\n",
    "\n",
    "    max2, max1 = maximum2(offspring_fitness)\n",
    "    min1, min2 = minimum2(db_fitness)\n",
    "    # print(\"antes\")\n",
    "    # print(cr_database)\n",
    "    \n",
    "    #print([fitness(theta, no_result, examples) for theta in iter(cr_database)])\n",
    "\n",
    "    if max1 > min1:\n",
    "        cr_database[db_fitness.index(min1)] = offspring[offspring_fitness.index(max1)]\n",
    "    if max2 > min2:\n",
    "        cr_database[db_fitness.index(min2)] = offspring[offspring_fitness.index(max2)]\n",
    "        \n",
    "print([fitness(theta, no_result, examples) for theta in iter(cr_database)])"
   ]
  },
  {
   "cell_type": "code",
   "execution_count": 36,
   "metadata": {},
   "outputs": [
    {
     "name": "stdout",
     "output_type": "stream",
     "text": [
      "2183 / 3348 = 0.6520310633213859\n"
     ]
    }
   ],
   "source": [
    "correct = 0\n",
    "for theta in iter(cr_database):\n",
    "    for i in range(no_result.shape[0]):    \n",
    "        cr = no_result.iloc[i] * theta\n",
    "        cr_sum = cr.sum()\n",
    "        if ((cr_sum > 0) and (examples.iloc[i].Resultado == \"A\")):\n",
    "            correct += 1\n",
    "        elif ((cr_sum < 0) and (examples.iloc[i].Resultado == \"I\")):\n",
    "            correct += 1\n",
    "\n",
    "print(str(correct) + \" / \" + str(no_result.shape[0] * 6) + \" = \" + str(correct / (no_result.shape[0] * 6)))"
   ]
  },
  {
   "cell_type": "code",
   "execution_count": null,
   "metadata": {},
   "outputs": [],
   "source": []
  },
  {
   "cell_type": "code",
   "execution_count": null,
   "metadata": {},
   "outputs": [],
   "source": []
  }
 ],
 "metadata": {
  "kernelspec": {
   "display_name": "Python 3",
   "language": "python",
   "name": "python3"
  },
  "language_info": {
   "codemirror_mode": {
    "name": "ipython",
    "version": 3
   },
   "file_extension": ".py",
   "mimetype": "text/x-python",
   "name": "python",
   "nbconvert_exporter": "python",
   "pygments_lexer": "ipython3",
   "version": "3.6.5"
  }
 },
 "nbformat": 4,
 "nbformat_minor": 2
}
