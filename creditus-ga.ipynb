{
 "cells": [
  {
   "cell_type": "code",
   "execution_count": 1,
   "metadata": {},
   "outputs": [],
   "source": [
    "import numpy as np\n",
    "import pandas as pd\n",
    "import random as rnd"
   ]
  },
  {
   "cell_type": "code",
   "execution_count": 2,
   "metadata": {},
   "outputs": [],
   "source": [
    "def fitness(theta, no_result, examples):\n",
    "    nac = 0\n",
    "    nic = 0\n",
    "    ta = 0\n",
    "    ti = 0\n",
    "    \n",
    "    # Cria um array contendo 100 indices que serão visitados na matriz original, para testar a qualidade deste cromossomo\n",
    "    indexes = np.random.randint(no_result.shape[0], size=100)\n",
    "\n",
    "    for i in indexes:\n",
    "        cr = no_result.iloc[i] * theta\n",
    "        cr_sum = cr.sum()\n",
    "        if ((cr_sum > 0) and (examples.iloc[i].Resultado == \"A\")):\n",
    "            nac += 1\n",
    "        elif ((cr_sum < 0) and (examples.iloc[i].Resultado == \"I\")):\n",
    "            nic += 1\n",
    "            \n",
    "        if (examples.iloc[i].Resultado == \"A\"):\n",
    "            ta += 1\n",
    "        else:\n",
    "            ti += 1\n",
    "\n",
    "    return (nac * nic) / (ta * ti)"
   ]
  },
  {
   "cell_type": "code",
   "execution_count": 3,
   "metadata": {},
   "outputs": [],
   "source": [
    "def gen_cr(features, amount=1):\n",
    "    if amount > 1:\n",
    "        return np.random.uniform(low=-1., high=1., size=(amount, features))\n",
    "    else:\n",
    "        return np.random.uniform(low=-1., high=1., size=features)"
   ]
  },
  {
   "cell_type": "code",
   "execution_count": 4,
   "metadata": {},
   "outputs": [],
   "source": [
    "def crossover(first, second, amount=3):\n",
    "    parent_size = first.size\n",
    "    offsprings = []\n",
    "\n",
    "    for i in range(amount):\n",
    "        random_index = np.random.randint(parent_size-1, size=1)[0]\n",
    "        first_part = first[:random_index]\n",
    "        second_part = second[random_index:]\n",
    "        offspring = np.append(first_part, second_part)\n",
    "        offsprings.append(offspring)\n",
    "    \n",
    "    return np.array(offsprings)"
   ]
  },
  {
   "cell_type": "code",
   "execution_count": 5,
   "metadata": {},
   "outputs": [],
   "source": [
    "def mutate(cr):\n",
    "    print(cr)\n",
    "    random_cr_index = np.random.randint(cr.size-1, size=1)[0]\n",
    "    print(random_cr_index)\n",
    "    random_value = np.random.uniform(low=-1., high=1., size=no_result.shape[1])[0]\n",
    "    print(random_value)\n",
    "    cr[random_cr_index] = random_value\n",
    "    return cr"
   ]
  },
  {
   "cell_type": "code",
   "execution_count": 6,
   "metadata": {},
   "outputs": [],
   "source": [
    "def max2(data):\n",
    "    copied = data.copy()\n",
    "    sorted_data = np.sort(copied)\n",
    "    return (sorted_data[-1], sorted_data[-2])"
   ]
  },
  {
   "cell_type": "code",
   "execution_count": 7,
   "metadata": {},
   "outputs": [],
   "source": [
    "def min2(data):\n",
    "    copied = data.copy()\n",
    "    sorted_data = np.sort(copied)\n",
    "    return (sorted_data[0], sorted_data[1])"
   ]
  },
  {
   "cell_type": "code",
   "execution_count": null,
   "metadata": {},
   "outputs": [],
   "source": [
    "def wheel_of_chance(fitness_array):\n",
    "    cumulative_sum = np.array(fitness_array).cumsum()\n",
    "    return rnd.uniform(0, max(cumulative_sum))"
   ]
  },
  {
   "cell_type": "code",
   "execution_count": 8,
   "metadata": {},
   "outputs": [],
   "source": [
    "examples = pd.read_csv(\"data/creditus-data.csv\", sep=\";\", index_col=0, header=0)"
   ]
  },
  {
   "cell_type": "code",
   "execution_count": 9,
   "metadata": {
    "scrolled": true
   },
   "outputs": [
    {
     "data": {
      "text/html": [
       "<div>\n",
       "<style scoped>\n",
       "    .dataframe tbody tr th:only-of-type {\n",
       "        vertical-align: middle;\n",
       "    }\n",
       "\n",
       "    .dataframe tbody tr th {\n",
       "        vertical-align: top;\n",
       "    }\n",
       "\n",
       "    .dataframe thead th {\n",
       "        text-align: right;\n",
       "    }\n",
       "</style>\n",
       "<table border=\"1\" class=\"dataframe\">\n",
       "  <thead>\n",
       "    <tr style=\"text-align: right;\">\n",
       "      <th></th>\n",
       "      <th>X11</th>\n",
       "      <th>X12</th>\n",
       "      <th>X21</th>\n",
       "      <th>X22</th>\n",
       "      <th>X31</th>\n",
       "      <th>X32</th>\n",
       "      <th>X41</th>\n",
       "      <th>X42</th>\n",
       "      <th>X51</th>\n",
       "      <th>X52</th>\n",
       "      <th>X61</th>\n",
       "      <th>X62</th>\n",
       "      <th>X71</th>\n",
       "      <th>X72</th>\n",
       "      <th>X81</th>\n",
       "      <th>X82</th>\n",
       "      <th>X91</th>\n",
       "      <th>X92</th>\n",
       "      <th>Resultado</th>\n",
       "    </tr>\n",
       "  </thead>\n",
       "  <tbody>\n",
       "    <tr>\n",
       "      <th>Y001</th>\n",
       "      <td>1</td>\n",
       "      <td>0</td>\n",
       "      <td>0</td>\n",
       "      <td>1</td>\n",
       "      <td>1</td>\n",
       "      <td>0</td>\n",
       "      <td>0</td>\n",
       "      <td>1</td>\n",
       "      <td>0</td>\n",
       "      <td>1</td>\n",
       "      <td>1</td>\n",
       "      <td>0</td>\n",
       "      <td>0</td>\n",
       "      <td>1</td>\n",
       "      <td>1</td>\n",
       "      <td>0</td>\n",
       "      <td>1</td>\n",
       "      <td>0</td>\n",
       "      <td>A</td>\n",
       "    </tr>\n",
       "    <tr>\n",
       "      <th>Y002</th>\n",
       "      <td>0</td>\n",
       "      <td>1</td>\n",
       "      <td>0</td>\n",
       "      <td>1</td>\n",
       "      <td>1</td>\n",
       "      <td>0</td>\n",
       "      <td>0</td>\n",
       "      <td>1</td>\n",
       "      <td>0</td>\n",
       "      <td>1</td>\n",
       "      <td>1</td>\n",
       "      <td>0</td>\n",
       "      <td>0</td>\n",
       "      <td>1</td>\n",
       "      <td>1</td>\n",
       "      <td>0</td>\n",
       "      <td>1</td>\n",
       "      <td>0</td>\n",
       "      <td>A</td>\n",
       "    </tr>\n",
       "    <tr>\n",
       "      <th>Y003</th>\n",
       "      <td>1</td>\n",
       "      <td>0</td>\n",
       "      <td>1</td>\n",
       "      <td>0</td>\n",
       "      <td>0</td>\n",
       "      <td>1</td>\n",
       "      <td>1</td>\n",
       "      <td>0</td>\n",
       "      <td>1</td>\n",
       "      <td>0</td>\n",
       "      <td>0</td>\n",
       "      <td>1</td>\n",
       "      <td>1</td>\n",
       "      <td>0</td>\n",
       "      <td>0</td>\n",
       "      <td>1</td>\n",
       "      <td>0</td>\n",
       "      <td>1</td>\n",
       "      <td>I</td>\n",
       "    </tr>\n",
       "    <tr>\n",
       "      <th>Y004</th>\n",
       "      <td>1</td>\n",
       "      <td>0</td>\n",
       "      <td>1</td>\n",
       "      <td>0</td>\n",
       "      <td>0</td>\n",
       "      <td>1</td>\n",
       "      <td>1</td>\n",
       "      <td>0</td>\n",
       "      <td>1</td>\n",
       "      <td>0</td>\n",
       "      <td>0</td>\n",
       "      <td>1</td>\n",
       "      <td>1</td>\n",
       "      <td>0</td>\n",
       "      <td>0</td>\n",
       "      <td>1</td>\n",
       "      <td>0</td>\n",
       "      <td>1</td>\n",
       "      <td>I</td>\n",
       "    </tr>\n",
       "    <tr>\n",
       "      <th>Y005</th>\n",
       "      <td>0</td>\n",
       "      <td>1</td>\n",
       "      <td>0</td>\n",
       "      <td>1</td>\n",
       "      <td>1</td>\n",
       "      <td>0</td>\n",
       "      <td>0</td>\n",
       "      <td>1</td>\n",
       "      <td>0</td>\n",
       "      <td>1</td>\n",
       "      <td>1</td>\n",
       "      <td>0</td>\n",
       "      <td>0</td>\n",
       "      <td>1</td>\n",
       "      <td>1</td>\n",
       "      <td>0</td>\n",
       "      <td>1</td>\n",
       "      <td>0</td>\n",
       "      <td>A</td>\n",
       "    </tr>\n",
       "  </tbody>\n",
       "</table>\n",
       "</div>"
      ],
      "text/plain": [
       "      X11  X12  X21  X22  X31  X32  X41  X42  X51  X52  X61  X62  X71  X72  \\\n",
       "Y001    1    0    0    1    1    0    0    1    0    1    1    0    0    1   \n",
       "Y002    0    1    0    1    1    0    0    1    0    1    1    0    0    1   \n",
       "Y003    1    0    1    0    0    1    1    0    1    0    0    1    1    0   \n",
       "Y004    1    0    1    0    0    1    1    0    1    0    0    1    1    0   \n",
       "Y005    0    1    0    1    1    0    0    1    0    1    1    0    0    1   \n",
       "\n",
       "      X81  X82  X91  X92 Resultado  \n",
       "Y001    1    0    1    0         A  \n",
       "Y002    1    0    1    0         A  \n",
       "Y003    0    1    0    1         I  \n",
       "Y004    0    1    0    1         I  \n",
       "Y005    1    0    1    0         A  "
      ]
     },
     "execution_count": 9,
     "metadata": {},
     "output_type": "execute_result"
    }
   ],
   "source": [
    "examples.head(5)"
   ]
  },
  {
   "cell_type": "code",
   "execution_count": 10,
   "metadata": {},
   "outputs": [],
   "source": [
    "# Variáveis do problema, conforme apostila\n",
    "ta = examples[examples.Resultado == 'A'].shape[0]  # número total de adimplentes \n",
    "ti = examples[examples.Resultado == 'I'].shape[0]  # número total de inadimplentes"
   ]
  },
  {
   "cell_type": "code",
   "execution_count": 11,
   "metadata": {},
   "outputs": [],
   "source": [
    "no_result = examples.drop([\"Resultado\"], axis = 1)"
   ]
  },
  {
   "cell_type": "code",
   "execution_count": 12,
   "metadata": {},
   "outputs": [
    {
     "data": {
      "text/html": [
       "<div>\n",
       "<style scoped>\n",
       "    .dataframe tbody tr th:only-of-type {\n",
       "        vertical-align: middle;\n",
       "    }\n",
       "\n",
       "    .dataframe tbody tr th {\n",
       "        vertical-align: top;\n",
       "    }\n",
       "\n",
       "    .dataframe thead th {\n",
       "        text-align: right;\n",
       "    }\n",
       "</style>\n",
       "<table border=\"1\" class=\"dataframe\">\n",
       "  <thead>\n",
       "    <tr style=\"text-align: right;\">\n",
       "      <th></th>\n",
       "      <th>X11</th>\n",
       "      <th>X12</th>\n",
       "      <th>X21</th>\n",
       "      <th>X22</th>\n",
       "      <th>X31</th>\n",
       "      <th>X32</th>\n",
       "      <th>X41</th>\n",
       "      <th>X42</th>\n",
       "      <th>X51</th>\n",
       "      <th>X52</th>\n",
       "      <th>X61</th>\n",
       "      <th>X62</th>\n",
       "      <th>X71</th>\n",
       "      <th>X72</th>\n",
       "      <th>X81</th>\n",
       "      <th>X82</th>\n",
       "      <th>X91</th>\n",
       "      <th>X92</th>\n",
       "    </tr>\n",
       "  </thead>\n",
       "  <tbody>\n",
       "    <tr>\n",
       "      <th>Y001</th>\n",
       "      <td>1</td>\n",
       "      <td>0</td>\n",
       "      <td>0</td>\n",
       "      <td>1</td>\n",
       "      <td>1</td>\n",
       "      <td>0</td>\n",
       "      <td>0</td>\n",
       "      <td>1</td>\n",
       "      <td>0</td>\n",
       "      <td>1</td>\n",
       "      <td>1</td>\n",
       "      <td>0</td>\n",
       "      <td>0</td>\n",
       "      <td>1</td>\n",
       "      <td>1</td>\n",
       "      <td>0</td>\n",
       "      <td>1</td>\n",
       "      <td>0</td>\n",
       "    </tr>\n",
       "    <tr>\n",
       "      <th>Y002</th>\n",
       "      <td>0</td>\n",
       "      <td>1</td>\n",
       "      <td>0</td>\n",
       "      <td>1</td>\n",
       "      <td>1</td>\n",
       "      <td>0</td>\n",
       "      <td>0</td>\n",
       "      <td>1</td>\n",
       "      <td>0</td>\n",
       "      <td>1</td>\n",
       "      <td>1</td>\n",
       "      <td>0</td>\n",
       "      <td>0</td>\n",
       "      <td>1</td>\n",
       "      <td>1</td>\n",
       "      <td>0</td>\n",
       "      <td>1</td>\n",
       "      <td>0</td>\n",
       "    </tr>\n",
       "    <tr>\n",
       "      <th>Y003</th>\n",
       "      <td>1</td>\n",
       "      <td>0</td>\n",
       "      <td>1</td>\n",
       "      <td>0</td>\n",
       "      <td>0</td>\n",
       "      <td>1</td>\n",
       "      <td>1</td>\n",
       "      <td>0</td>\n",
       "      <td>1</td>\n",
       "      <td>0</td>\n",
       "      <td>0</td>\n",
       "      <td>1</td>\n",
       "      <td>1</td>\n",
       "      <td>0</td>\n",
       "      <td>0</td>\n",
       "      <td>1</td>\n",
       "      <td>0</td>\n",
       "      <td>1</td>\n",
       "    </tr>\n",
       "    <tr>\n",
       "      <th>Y004</th>\n",
       "      <td>1</td>\n",
       "      <td>0</td>\n",
       "      <td>1</td>\n",
       "      <td>0</td>\n",
       "      <td>0</td>\n",
       "      <td>1</td>\n",
       "      <td>1</td>\n",
       "      <td>0</td>\n",
       "      <td>1</td>\n",
       "      <td>0</td>\n",
       "      <td>0</td>\n",
       "      <td>1</td>\n",
       "      <td>1</td>\n",
       "      <td>0</td>\n",
       "      <td>0</td>\n",
       "      <td>1</td>\n",
       "      <td>0</td>\n",
       "      <td>1</td>\n",
       "    </tr>\n",
       "    <tr>\n",
       "      <th>Y005</th>\n",
       "      <td>0</td>\n",
       "      <td>1</td>\n",
       "      <td>0</td>\n",
       "      <td>1</td>\n",
       "      <td>1</td>\n",
       "      <td>0</td>\n",
       "      <td>0</td>\n",
       "      <td>1</td>\n",
       "      <td>0</td>\n",
       "      <td>1</td>\n",
       "      <td>1</td>\n",
       "      <td>0</td>\n",
       "      <td>0</td>\n",
       "      <td>1</td>\n",
       "      <td>1</td>\n",
       "      <td>0</td>\n",
       "      <td>1</td>\n",
       "      <td>0</td>\n",
       "    </tr>\n",
       "  </tbody>\n",
       "</table>\n",
       "</div>"
      ],
      "text/plain": [
       "      X11  X12  X21  X22  X31  X32  X41  X42  X51  X52  X61  X62  X71  X72  \\\n",
       "Y001    1    0    0    1    1    0    0    1    0    1    1    0    0    1   \n",
       "Y002    0    1    0    1    1    0    0    1    0    1    1    0    0    1   \n",
       "Y003    1    0    1    0    0    1    1    0    1    0    0    1    1    0   \n",
       "Y004    1    0    1    0    0    1    1    0    1    0    0    1    1    0   \n",
       "Y005    0    1    0    1    1    0    0    1    0    1    1    0    0    1   \n",
       "\n",
       "      X81  X82  X91  X92  \n",
       "Y001    1    0    1    0  \n",
       "Y002    1    0    1    0  \n",
       "Y003    0    1    0    1  \n",
       "Y004    0    1    0    1  \n",
       "Y005    1    0    1    0  "
      ]
     },
     "execution_count": 12,
     "metadata": {},
     "output_type": "execute_result"
    }
   ],
   "source": [
    "no_result.head(5)"
   ]
  },
  {
   "cell_type": "code",
   "execution_count": 13,
   "metadata": {},
   "outputs": [],
   "source": [
    "# Cria uma matriz de tamanho equivalente a matriz no_result\n",
    "random_values = np.random.uniform(low=-1., high=1., size=no_result.shape)"
   ]
  },
  {
   "cell_type": "code",
   "execution_count": 14,
   "metadata": {},
   "outputs": [
    {
     "data": {
      "text/plain": [
       "array([[ 0.42117918, -0.77695305, -0.43188157, ..., -0.07289017,\n",
       "         0.98085864,  0.89119282],\n",
       "       [ 0.05447158, -0.87152144,  0.05648627, ...,  0.26524754,\n",
       "         0.71903033, -0.55616413],\n",
       "       [ 0.44185572,  0.52102227,  0.99100152, ..., -0.16072005,\n",
       "         0.86936747,  0.84726153],\n",
       "       ...,\n",
       "       [-0.59373875,  0.43400906,  0.25291596, ..., -0.5629553 ,\n",
       "         0.73304001, -0.24769141],\n",
       "       [ 0.31493044,  0.34172218,  0.70801551, ...,  0.06564576,\n",
       "         0.05365639,  0.92073804],\n",
       "       [ 0.77740102, -0.4798296 ,  0.32868675, ..., -0.11901703,\n",
       "        -0.5517381 ,  0.33921456]])"
      ]
     },
     "execution_count": 14,
     "metadata": {},
     "output_type": "execute_result"
    }
   ],
   "source": [
    "random_values"
   ]
  },
  {
   "cell_type": "code",
   "execution_count": 15,
   "metadata": {},
   "outputs": [],
   "source": [
    "cr = no_result * random_values"
   ]
  },
  {
   "cell_type": "code",
   "execution_count": 16,
   "metadata": {},
   "outputs": [
    {
     "data": {
      "text/html": [
       "<div>\n",
       "<style scoped>\n",
       "    .dataframe tbody tr th:only-of-type {\n",
       "        vertical-align: middle;\n",
       "    }\n",
       "\n",
       "    .dataframe tbody tr th {\n",
       "        vertical-align: top;\n",
       "    }\n",
       "\n",
       "    .dataframe thead th {\n",
       "        text-align: right;\n",
       "    }\n",
       "</style>\n",
       "<table border=\"1\" class=\"dataframe\">\n",
       "  <thead>\n",
       "    <tr style=\"text-align: right;\">\n",
       "      <th></th>\n",
       "      <th>X11</th>\n",
       "      <th>X12</th>\n",
       "      <th>X21</th>\n",
       "      <th>X22</th>\n",
       "      <th>X31</th>\n",
       "      <th>X32</th>\n",
       "      <th>X41</th>\n",
       "      <th>X42</th>\n",
       "      <th>X51</th>\n",
       "      <th>X52</th>\n",
       "      <th>X61</th>\n",
       "      <th>X62</th>\n",
       "      <th>X71</th>\n",
       "      <th>X72</th>\n",
       "      <th>X81</th>\n",
       "      <th>X82</th>\n",
       "      <th>X91</th>\n",
       "      <th>X92</th>\n",
       "    </tr>\n",
       "  </thead>\n",
       "  <tbody>\n",
       "    <tr>\n",
       "      <th>Y001</th>\n",
       "      <td>0.421179</td>\n",
       "      <td>-0.000000</td>\n",
       "      <td>-0.000000</td>\n",
       "      <td>-0.999008</td>\n",
       "      <td>-0.018838</td>\n",
       "      <td>-0.000000</td>\n",
       "      <td>0.000000</td>\n",
       "      <td>0.480522</td>\n",
       "      <td>0.000000</td>\n",
       "      <td>0.757705</td>\n",
       "      <td>0.184648</td>\n",
       "      <td>0.000000</td>\n",
       "      <td>-0.000000</td>\n",
       "      <td>0.484061</td>\n",
       "      <td>-0.397233</td>\n",
       "      <td>-0.000000</td>\n",
       "      <td>0.980859</td>\n",
       "      <td>0.000000</td>\n",
       "    </tr>\n",
       "    <tr>\n",
       "      <th>Y002</th>\n",
       "      <td>0.000000</td>\n",
       "      <td>-0.871521</td>\n",
       "      <td>0.000000</td>\n",
       "      <td>-0.547924</td>\n",
       "      <td>0.303325</td>\n",
       "      <td>0.000000</td>\n",
       "      <td>0.000000</td>\n",
       "      <td>-0.546246</td>\n",
       "      <td>0.000000</td>\n",
       "      <td>0.214729</td>\n",
       "      <td>-0.505961</td>\n",
       "      <td>-0.000000</td>\n",
       "      <td>-0.000000</td>\n",
       "      <td>0.480739</td>\n",
       "      <td>0.093073</td>\n",
       "      <td>0.000000</td>\n",
       "      <td>0.719030</td>\n",
       "      <td>-0.000000</td>\n",
       "    </tr>\n",
       "    <tr>\n",
       "      <th>Y003</th>\n",
       "      <td>0.441856</td>\n",
       "      <td>0.000000</td>\n",
       "      <td>0.991002</td>\n",
       "      <td>0.000000</td>\n",
       "      <td>0.000000</td>\n",
       "      <td>-0.854177</td>\n",
       "      <td>0.095530</td>\n",
       "      <td>-0.000000</td>\n",
       "      <td>0.594029</td>\n",
       "      <td>-0.000000</td>\n",
       "      <td>-0.000000</td>\n",
       "      <td>-0.557569</td>\n",
       "      <td>0.864736</td>\n",
       "      <td>0.000000</td>\n",
       "      <td>-0.000000</td>\n",
       "      <td>-0.160720</td>\n",
       "      <td>0.000000</td>\n",
       "      <td>0.847262</td>\n",
       "    </tr>\n",
       "    <tr>\n",
       "      <th>Y004</th>\n",
       "      <td>0.573596</td>\n",
       "      <td>0.000000</td>\n",
       "      <td>-0.629755</td>\n",
       "      <td>-0.000000</td>\n",
       "      <td>-0.000000</td>\n",
       "      <td>-0.615991</td>\n",
       "      <td>0.181362</td>\n",
       "      <td>-0.000000</td>\n",
       "      <td>0.350991</td>\n",
       "      <td>-0.000000</td>\n",
       "      <td>0.000000</td>\n",
       "      <td>-0.265070</td>\n",
       "      <td>-0.598619</td>\n",
       "      <td>0.000000</td>\n",
       "      <td>0.000000</td>\n",
       "      <td>0.803389</td>\n",
       "      <td>0.000000</td>\n",
       "      <td>-0.391425</td>\n",
       "    </tr>\n",
       "    <tr>\n",
       "      <th>Y005</th>\n",
       "      <td>0.000000</td>\n",
       "      <td>-0.229499</td>\n",
       "      <td>0.000000</td>\n",
       "      <td>-0.151239</td>\n",
       "      <td>-0.504635</td>\n",
       "      <td>-0.000000</td>\n",
       "      <td>-0.000000</td>\n",
       "      <td>-0.792225</td>\n",
       "      <td>-0.000000</td>\n",
       "      <td>0.582504</td>\n",
       "      <td>-0.977086</td>\n",
       "      <td>-0.000000</td>\n",
       "      <td>0.000000</td>\n",
       "      <td>-0.109519</td>\n",
       "      <td>-0.988631</td>\n",
       "      <td>-0.000000</td>\n",
       "      <td>0.581495</td>\n",
       "      <td>-0.000000</td>\n",
       "    </tr>\n",
       "  </tbody>\n",
       "</table>\n",
       "</div>"
      ],
      "text/plain": [
       "           X11       X12       X21       X22       X31       X32       X41  \\\n",
       "Y001  0.421179 -0.000000 -0.000000 -0.999008 -0.018838 -0.000000  0.000000   \n",
       "Y002  0.000000 -0.871521  0.000000 -0.547924  0.303325  0.000000  0.000000   \n",
       "Y003  0.441856  0.000000  0.991002  0.000000  0.000000 -0.854177  0.095530   \n",
       "Y004  0.573596  0.000000 -0.629755 -0.000000 -0.000000 -0.615991  0.181362   \n",
       "Y005  0.000000 -0.229499  0.000000 -0.151239 -0.504635 -0.000000 -0.000000   \n",
       "\n",
       "           X42       X51       X52       X61       X62       X71       X72  \\\n",
       "Y001  0.480522  0.000000  0.757705  0.184648  0.000000 -0.000000  0.484061   \n",
       "Y002 -0.546246  0.000000  0.214729 -0.505961 -0.000000 -0.000000  0.480739   \n",
       "Y003 -0.000000  0.594029 -0.000000 -0.000000 -0.557569  0.864736  0.000000   \n",
       "Y004 -0.000000  0.350991 -0.000000  0.000000 -0.265070 -0.598619  0.000000   \n",
       "Y005 -0.792225 -0.000000  0.582504 -0.977086 -0.000000  0.000000 -0.109519   \n",
       "\n",
       "           X81       X82       X91       X92  \n",
       "Y001 -0.397233 -0.000000  0.980859  0.000000  \n",
       "Y002  0.093073  0.000000  0.719030 -0.000000  \n",
       "Y003 -0.000000 -0.160720  0.000000  0.847262  \n",
       "Y004  0.000000  0.803389  0.000000 -0.391425  \n",
       "Y005 -0.988631 -0.000000  0.581495 -0.000000  "
      ]
     },
     "execution_count": 16,
     "metadata": {},
     "output_type": "execute_result"
    }
   ],
   "source": [
    "cr.head(5)"
   ]
  },
  {
   "cell_type": "code",
   "execution_count": 17,
   "metadata": {},
   "outputs": [],
   "source": [
    "cr_sum = cr.sum(axis=1)"
   ]
  },
  {
   "cell_type": "code",
   "execution_count": 18,
   "metadata": {},
   "outputs": [
    {
     "data": {
      "text/plain": [
       "Y001    1.893895\n",
       "Y002   -0.660757\n",
       "Y003    2.261949\n",
       "Y004   -0.591522\n",
       "Y005   -2.588835\n",
       "dtype: float64"
      ]
     },
     "execution_count": 18,
     "metadata": {},
     "output_type": "execute_result"
    }
   ],
   "source": [
    "cr_sum.head(5)"
   ]
  },
  {
   "cell_type": "code",
   "execution_count": 19,
   "metadata": {},
   "outputs": [
    {
     "data": {
      "text/plain": [
       "Y001    A\n",
       "Y002    A\n",
       "Y003    I\n",
       "Y004    I\n",
       "Y005    A\n",
       "Name: Resultado, dtype: object"
      ]
     },
     "execution_count": 19,
     "metadata": {},
     "output_type": "execute_result"
    }
   ],
   "source": [
    "pd.Series(examples.Resultado).head(5)"
   ]
  },
  {
   "cell_type": "code",
   "execution_count": 20,
   "metadata": {},
   "outputs": [
    {
     "data": {
      "text/plain": [
       "Y001    1.893895\n",
       "Y002   -0.660757\n",
       "Y003    2.261949\n",
       "Y004   -0.591522\n",
       "Y005   -2.588835\n",
       "dtype: float64"
      ]
     },
     "execution_count": 20,
     "metadata": {},
     "output_type": "execute_result"
    }
   ],
   "source": [
    "cr_sum.head(5)"
   ]
  },
  {
   "cell_type": "code",
   "execution_count": 21,
   "metadata": {},
   "outputs": [],
   "source": [
    "dict = {\n",
    "    \"summation\": pd.Series(cr_sum),\n",
    "    \"label\": pd.Series(examples.Resultado)\n",
    "}"
   ]
  },
  {
   "cell_type": "code",
   "execution_count": 22,
   "metadata": {},
   "outputs": [],
   "source": [
    "labeled_cr = pd.DataFrame(dict)"
   ]
  },
  {
   "cell_type": "code",
   "execution_count": 23,
   "metadata": {},
   "outputs": [
    {
     "data": {
      "text/html": [
       "<div>\n",
       "<style scoped>\n",
       "    .dataframe tbody tr th:only-of-type {\n",
       "        vertical-align: middle;\n",
       "    }\n",
       "\n",
       "    .dataframe tbody tr th {\n",
       "        vertical-align: top;\n",
       "    }\n",
       "\n",
       "    .dataframe thead th {\n",
       "        text-align: right;\n",
       "    }\n",
       "</style>\n",
       "<table border=\"1\" class=\"dataframe\">\n",
       "  <thead>\n",
       "    <tr style=\"text-align: right;\">\n",
       "      <th></th>\n",
       "      <th>summation</th>\n",
       "      <th>label</th>\n",
       "    </tr>\n",
       "  </thead>\n",
       "  <tbody>\n",
       "    <tr>\n",
       "      <th>Y001</th>\n",
       "      <td>1.893895</td>\n",
       "      <td>A</td>\n",
       "    </tr>\n",
       "    <tr>\n",
       "      <th>Y002</th>\n",
       "      <td>-0.660757</td>\n",
       "      <td>A</td>\n",
       "    </tr>\n",
       "    <tr>\n",
       "      <th>Y003</th>\n",
       "      <td>2.261949</td>\n",
       "      <td>I</td>\n",
       "    </tr>\n",
       "    <tr>\n",
       "      <th>Y004</th>\n",
       "      <td>-0.591522</td>\n",
       "      <td>I</td>\n",
       "    </tr>\n",
       "    <tr>\n",
       "      <th>Y005</th>\n",
       "      <td>-2.588835</td>\n",
       "      <td>A</td>\n",
       "    </tr>\n",
       "  </tbody>\n",
       "</table>\n",
       "</div>"
      ],
      "text/plain": [
       "      summation label\n",
       "Y001   1.893895     A\n",
       "Y002  -0.660757     A\n",
       "Y003   2.261949     I\n",
       "Y004  -0.591522     I\n",
       "Y005  -2.588835     A"
      ]
     },
     "execution_count": 23,
     "metadata": {},
     "output_type": "execute_result"
    }
   ],
   "source": [
    "labeled_cr.head(5)"
   ]
  },
  {
   "cell_type": "code",
   "execution_count": 24,
   "metadata": {},
   "outputs": [],
   "source": [
    "nac = labeled_cr[(labeled_cr.summation > 0) & (labeled_cr.label == \"A\")]\n",
    "nic = labeled_cr[(labeled_cr.summation < 0) & (labeled_cr.label == \"I\")]"
   ]
  },
  {
   "cell_type": "code",
   "execution_count": 25,
   "metadata": {},
   "outputs": [
    {
     "data": {
      "text/html": [
       "<div>\n",
       "<style scoped>\n",
       "    .dataframe tbody tr th:only-of-type {\n",
       "        vertical-align: middle;\n",
       "    }\n",
       "\n",
       "    .dataframe tbody tr th {\n",
       "        vertical-align: top;\n",
       "    }\n",
       "\n",
       "    .dataframe thead th {\n",
       "        text-align: right;\n",
       "    }\n",
       "</style>\n",
       "<table border=\"1\" class=\"dataframe\">\n",
       "  <thead>\n",
       "    <tr style=\"text-align: right;\">\n",
       "      <th></th>\n",
       "      <th>summation</th>\n",
       "      <th>label</th>\n",
       "    </tr>\n",
       "  </thead>\n",
       "  <tbody>\n",
       "    <tr>\n",
       "      <th>Y001</th>\n",
       "      <td>1.893895</td>\n",
       "      <td>A</td>\n",
       "    </tr>\n",
       "    <tr>\n",
       "      <th>Y006</th>\n",
       "      <td>0.254706</td>\n",
       "      <td>A</td>\n",
       "    </tr>\n",
       "    <tr>\n",
       "      <th>Y013</th>\n",
       "      <td>1.436485</td>\n",
       "      <td>A</td>\n",
       "    </tr>\n",
       "    <tr>\n",
       "      <th>Y023</th>\n",
       "      <td>2.568091</td>\n",
       "      <td>A</td>\n",
       "    </tr>\n",
       "    <tr>\n",
       "      <th>Y025</th>\n",
       "      <td>0.398419</td>\n",
       "      <td>A</td>\n",
       "    </tr>\n",
       "  </tbody>\n",
       "</table>\n",
       "</div>"
      ],
      "text/plain": [
       "      summation label\n",
       "Y001   1.893895     A\n",
       "Y006   0.254706     A\n",
       "Y013   1.436485     A\n",
       "Y023   2.568091     A\n",
       "Y025   0.398419     A"
      ]
     },
     "execution_count": 25,
     "metadata": {},
     "output_type": "execute_result"
    }
   ],
   "source": [
    "nac.head(5) # O cálculo do NAC e NIC ainda não fazem sentido..."
   ]
  },
  {
   "cell_type": "code",
   "execution_count": 26,
   "metadata": {},
   "outputs": [],
   "source": [
    "# Cria um array de tamanho equivalente à linha da matriz, parece mais conveniente que a abordagem anterior\n",
    "random_theta = np.random.uniform(low=-1., high=1., size=no_result.shape[1])"
   ]
  },
  {
   "cell_type": "code",
   "execution_count": 27,
   "metadata": {},
   "outputs": [
    {
     "data": {
      "text/plain": [
       "0.515625"
      ]
     },
     "execution_count": 27,
     "metadata": {},
     "output_type": "execute_result"
    }
   ],
   "source": [
    "fitness(random_theta, no_result, examples)"
   ]
  },
  {
   "cell_type": "code",
   "execution_count": 28,
   "metadata": {},
   "outputs": [
    {
     "data": {
      "text/plain": [
       "array([-0.84537429,  0.74167581,  0.71868499, -0.74228115, -0.21136563,\n",
       "        0.50659771,  0.89209214,  0.03931989,  0.66648076,  0.70420745,\n",
       "        0.58505079,  0.19477452, -0.15796128,  0.74382386,  0.19977844,\n",
       "       -0.95189424, -0.29000941, -0.7011089 ])"
      ]
     },
     "execution_count": 28,
     "metadata": {},
     "output_type": "execute_result"
    }
   ],
   "source": [
    "cr_size = no_result.shape[1]\n",
    "gen_cr(cr_size)"
   ]
  },
  {
   "cell_type": "code",
   "execution_count": 29,
   "metadata": {},
   "outputs": [
    {
     "data": {
      "text/plain": [
       "array([[-0.67665573,  0.22323925,  0.32843155, -0.18055314, -0.25309979,\n",
       "        -0.17689205,  0.03770006, -0.86837803, -0.66973754,  0.4473252 ,\n",
       "         0.67257227, -0.20261922, -0.36675819, -0.18825205, -0.93340672,\n",
       "        -0.81619935,  0.67836332, -0.26311613],\n",
       "       [-0.67665573,  0.22323925,  0.32843155, -0.18055314, -0.25309979,\n",
       "        -0.17689205,  0.48914266,  0.83538954,  0.44412545,  0.2412712 ,\n",
       "        -0.47141996,  0.74958172,  0.3838556 , -0.18825205, -0.93340672,\n",
       "        -0.81619935,  0.67836332, -0.26311613],\n",
       "       [-0.67665573,  0.22323925,  0.32843155, -0.18055314, -0.25309979,\n",
       "        -0.17689205,  0.48914266,  0.83538954,  0.44412545,  0.2412712 ,\n",
       "         0.67257227, -0.20261922, -0.36675819, -0.18825205, -0.93340672,\n",
       "        -0.81619935,  0.67836332, -0.26311613]])"
      ]
     },
     "execution_count": 29,
     "metadata": {},
     "output_type": "execute_result"
    }
   ],
   "source": [
    "crossover(gen_cr(cr_size), gen_cr(cr_size), 3)"
   ]
  },
  {
   "cell_type": "code",
   "execution_count": 30,
   "metadata": {},
   "outputs": [
    {
     "name": "stdout",
     "output_type": "stream",
     "text": [
      "[-0.53403975 -0.35191211 -0.01624314  0.31355631 -0.02277363 -0.24235665\n",
      " -0.84687327 -0.01106554 -0.53278644 -0.66319712  0.70033324 -0.21482325\n",
      " -0.69834629 -0.73103046  0.60481386 -0.12879348 -0.66923058  0.81601777]\n",
      "14\n",
      "-0.1975357451801616\n"
     ]
    },
    {
     "data": {
      "text/plain": [
       "array([-0.53403975, -0.35191211, -0.01624314,  0.31355631, -0.02277363,\n",
       "       -0.24235665, -0.84687327, -0.01106554, -0.53278644, -0.66319712,\n",
       "        0.70033324, -0.21482325, -0.69834629, -0.73103046, -0.19753575,\n",
       "       -0.12879348, -0.66923058,  0.81601777])"
      ]
     },
     "execution_count": 30,
     "metadata": {},
     "output_type": "execute_result"
    }
   ],
   "source": [
    "mutate(gen_cr(cr_size))"
   ]
  },
  {
   "cell_type": "code",
   "execution_count": 31,
   "metadata": {},
   "outputs": [],
   "source": [
    "cr_database = gen_cr(no_result.shape[1], 6) # gera os 6 cromossomos"
   ]
  },
  {
   "cell_type": "code",
   "execution_count": 32,
   "metadata": {},
   "outputs": [
    {
     "data": {
      "text/plain": [
       "array([2, 5])"
      ]
     },
     "execution_count": 32,
     "metadata": {},
     "output_type": "execute_result"
    }
   ],
   "source": [
    "parent_indexes = np.random.randint(cr_database.shape[0], size=2)\n",
    "parent_indexes"
   ]
  },
  {
   "cell_type": "code",
   "execution_count": 33,
   "metadata": {},
   "outputs": [],
   "source": [
    "first = cr_database[parent_indexes[0]]\n",
    "second = cr_database[parent_indexes[1]]\n",
    "offspring1 = crossover(first, second)"
   ]
  },
  {
   "cell_type": "code",
   "execution_count": 34,
   "metadata": {},
   "outputs": [
    {
     "name": "stdout",
     "output_type": "stream",
     "text": [
      "[-0.96538756 -0.22522742  0.28388056 -0.65819697  0.63996246 -0.96956592\n",
      " -0.54252319 -0.38666203 -0.3078905  -0.85264061 -0.98221943  0.36317047\n",
      " -0.31877456  0.04338957 -0.58481671 -0.04402483  0.46892639 -0.17406682]\n",
      "14\n",
      "-0.27811787698000856\n",
      "[-0.96538756 -0.22522742  0.28388056 -0.65819697  0.63996246 -0.96956592\n",
      " -0.54252319 -0.38666203 -0.3078905  -0.85264061 -0.9574135   0.36317047\n",
      " -0.31877456  0.04338957 -0.58481671 -0.04402483  0.46892639 -0.17406682]\n",
      "11\n",
      "-0.29344371240515077\n",
      "[-0.96538756 -0.22522742  0.28388056 -0.65819697  0.15650051  0.68152174\n",
      "  0.15455461  0.81387424 -0.46676346  0.33929855 -0.9574135   0.36317047\n",
      " -0.31877456  0.04338957 -0.58481671 -0.04402483  0.46892639 -0.17406682]\n",
      "9\n",
      "0.878563416460324\n"
     ]
    }
   ],
   "source": [
    "offspring2 = offspring1.copy()\n",
    "for i in range(len(offspring2)):\n",
    "    offspring2[i] = mutate(offspring2[i])\n",
    "offspring = np.concatenate((offspring1, offspring2))"
   ]
  },
  {
   "cell_type": "code",
   "execution_count": 35,
   "metadata": {},
   "outputs": [],
   "source": [
    "db_fitness = [fitness(theta, no_result, examples) for theta in iter(cr_database)]"
   ]
  },
  {
   "cell_type": "code",
   "execution_count": 36,
   "metadata": {},
   "outputs": [],
   "source": [
    "offspring_fitness = [fitness(theta, no_result, examples) for theta in iter(offspring)]"
   ]
  },
  {
   "cell_type": "code",
   "execution_count": 37,
   "metadata": {},
   "outputs": [
    {
     "data": {
      "text/plain": [
       "[0.0,\n",
       " 0.0,\n",
       " 0.21827201322860687,\n",
       " 0.02040816326530612,\n",
       " 0.06818181818181818,\n",
       " 0.28125]"
      ]
     },
     "execution_count": 37,
     "metadata": {},
     "output_type": "execute_result"
    }
   ],
   "source": [
    "offspring_fitness"
   ]
  },
  {
   "cell_type": "code",
   "execution_count": 38,
   "metadata": {},
   "outputs": [],
   "source": [
    "max1, max2 = max2(offspring_fitness)"
   ]
  },
  {
   "cell_type": "code",
   "execution_count": 39,
   "metadata": {},
   "outputs": [],
   "source": [
    "min1, min2 = min2(db_fitness)"
   ]
  },
  {
   "cell_type": "code",
   "execution_count": 40,
   "metadata": {},
   "outputs": [
    {
     "name": "stdout",
     "output_type": "stream",
     "text": [
      "antes\n",
      "[[-7.77242262e-04  2.20439325e-02  7.07327093e-01 -9.45117065e-01\n",
      "   9.03008281e-01 -4.99028157e-01  3.06905796e-01  3.84146464e-01\n",
      "  -3.87357398e-01 -5.80457917e-01 -8.82916671e-01  2.40219360e-01\n",
      "  -3.86581658e-01 -1.47902287e-01  6.83174013e-01  7.10179202e-02\n",
      "   8.39378071e-01  9.23763265e-01]\n",
      " [-7.36452059e-01  6.83247774e-01 -5.99516901e-02 -1.93787016e-01\n",
      "  -2.18222214e-01  6.01533339e-01  2.65214768e-02  6.17451716e-01\n",
      "   9.04898877e-01  4.12422121e-01 -1.48757667e-01 -2.42054277e-01\n",
      "  -1.54939864e-01 -8.33493410e-01  3.71778596e-01 -7.08657110e-01\n",
      "  -8.95343227e-01  7.25863695e-01]\n",
      " [-9.65387559e-01 -2.25227420e-01  2.83880562e-01 -6.58196965e-01\n",
      "   6.39962458e-01 -9.69565918e-01 -5.42523189e-01 -3.86662026e-01\n",
      "  -3.07890497e-01 -8.52640610e-01 -9.82219435e-01  7.74104371e-01\n",
      "   6.52589693e-01 -1.64714863e-01 -6.27508728e-01  5.22386117e-01\n",
      "  -1.66667673e-01  9.92509521e-01]\n",
      " [-7.93620219e-01 -6.42472584e-01  9.70366829e-01  8.80848020e-01\n",
      "   9.70019206e-01 -4.38008368e-01 -5.92378009e-01  8.92816261e-01\n",
      "  -8.98364574e-01  7.19675898e-01 -4.07390015e-01 -8.46366033e-01\n",
      "   2.75305256e-02  9.09546053e-01  8.23131041e-01  2.41172413e-02\n",
      "   8.12827128e-01 -6.26587772e-01]\n",
      " [-6.99391633e-01  4.56069140e-01 -6.59470354e-01 -1.56372919e-02\n",
      "   3.94686481e-01  9.69446127e-01  1.19248811e-01  3.36897627e-01\n",
      "   4.31058962e-01  7.07950498e-01 -7.47645804e-01  7.64853127e-01\n",
      "   2.80283696e-01  8.08111193e-01 -9.77017913e-01 -1.93469738e-01\n",
      "   5.76502685e-01  5.29990623e-02]\n",
      " [ 5.23804314e-01 -4.79752985e-01  5.20018342e-01  9.88289337e-01\n",
      "   1.56500514e-01  6.81521743e-01  1.54554614e-01  8.13874244e-01\n",
      "  -4.66763458e-01  3.39298550e-01 -9.57413501e-01  3.63170472e-01\n",
      "  -3.18774562e-01  4.33895716e-02 -5.84816708e-01 -4.40248317e-02\n",
      "   4.68926394e-01 -1.74066825e-01]]\n",
      "depois\n",
      "[[-7.77242262e-04  2.20439325e-02  7.07327093e-01 -9.45117065e-01\n",
      "   9.03008281e-01 -4.99028157e-01  3.06905796e-01  3.84146464e-01\n",
      "  -3.87357398e-01 -5.80457917e-01 -8.82916671e-01  2.40219360e-01\n",
      "  -3.86581658e-01 -1.47902287e-01  6.83174013e-01  7.10179202e-02\n",
      "   8.39378071e-01  9.23763265e-01]\n",
      " [-7.36452059e-01  6.83247774e-01 -5.99516901e-02 -1.93787016e-01\n",
      "  -2.18222214e-01  6.01533339e-01  2.65214768e-02  6.17451716e-01\n",
      "   9.04898877e-01  4.12422121e-01 -1.48757667e-01 -2.42054277e-01\n",
      "  -1.54939864e-01 -8.33493410e-01  3.71778596e-01 -7.08657110e-01\n",
      "  -8.95343227e-01  7.25863695e-01]\n",
      " [-9.65387559e-01 -2.25227420e-01  2.83880562e-01 -6.58196965e-01\n",
      "   6.39962458e-01 -9.69565918e-01 -5.42523189e-01 -3.86662026e-01\n",
      "  -3.07890497e-01 -8.52640610e-01 -9.82219435e-01  7.74104371e-01\n",
      "   6.52589693e-01 -1.64714863e-01 -6.27508728e-01  5.22386117e-01\n",
      "  -1.66667673e-01  9.92509521e-01]\n",
      " [-7.93620219e-01 -6.42472584e-01  9.70366829e-01  8.80848020e-01\n",
      "   9.70019206e-01 -4.38008368e-01 -5.92378009e-01  8.92816261e-01\n",
      "  -8.98364574e-01  7.19675898e-01 -4.07390015e-01 -8.46366033e-01\n",
      "   2.75305256e-02  9.09546053e-01  8.23131041e-01  2.41172413e-02\n",
      "   8.12827128e-01 -6.26587772e-01]\n",
      " [-9.65387559e-01 -2.25227420e-01  2.83880562e-01 -6.58196965e-01\n",
      "   1.56500514e-01  6.81521743e-01  1.54554614e-01  8.13874244e-01\n",
      "  -4.66763458e-01  3.39298550e-01 -9.57413501e-01  3.63170472e-01\n",
      "  -3.18774562e-01  4.33895716e-02 -5.84816708e-01 -4.40248317e-02\n",
      "   4.68926394e-01 -1.74066825e-01]\n",
      " [-9.65387559e-01 -2.25227420e-01  2.83880562e-01 -6.58196965e-01\n",
      "   1.56500514e-01  6.81521743e-01  1.54554614e-01  8.13874244e-01\n",
      "  -4.66763458e-01  8.78563416e-01 -9.57413501e-01  3.63170472e-01\n",
      "  -3.18774562e-01  4.33895716e-02 -5.84816708e-01 -4.40248317e-02\n",
      "   4.68926394e-01 -1.74066825e-01]]\n"
     ]
    }
   ],
   "source": [
    "print(\"antes\")\n",
    "print(cr_database)\n",
    "cr_database[db_fitness.index(min1)] = offspring[offspring_fitness.index(max1)]\n",
    "cr_database[db_fitness.index(min2)] = offspring[offspring_fitness.index(max2)]\n",
    "print(\"depois\")\n",
    "print(cr_database)"
   ]
  },
  {
   "cell_type": "code",
   "execution_count": 41,
   "metadata": {},
   "outputs": [],
   "source": [
    "fit = [fitness(theta, no_result, examples) for theta in iter(cr_database)]"
   ]
  },
  {
   "cell_type": "code",
   "execution_count": 42,
   "metadata": {},
   "outputs": [],
   "source": [
    "    "
   ]
  },
  {
   "cell_type": "code",
   "execution_count": 43,
   "metadata": {},
   "outputs": [
    {
     "data": {
      "text/plain": [
       "array([0.17708333, 0.30608974, 0.35897436, 0.90212972, 1.1044581 ,\n",
       "       1.39536719])"
      ]
     },
     "execution_count": 43,
     "metadata": {},
     "output_type": "execute_result"
    }
   ],
   "source": []
  },
  {
   "cell_type": "code",
   "execution_count": 44,
   "metadata": {},
   "outputs": [
    {
     "data": {
      "text/plain": [
       "1.2113941073639791"
      ]
     },
     "execution_count": 44,
     "metadata": {},
     "output_type": "execute_result"
    }
   ],
   "source": []
  },
  {
   "cell_type": "code",
   "execution_count": null,
   "metadata": {},
   "outputs": [],
   "source": []
  },
  {
   "cell_type": "code",
   "execution_count": null,
   "metadata": {},
   "outputs": [],
   "source": []
  }
 ],
 "metadata": {
  "kernelspec": {
   "display_name": "Python 3",
   "language": "python",
   "name": "python3"
  },
  "language_info": {
   "codemirror_mode": {
    "name": "ipython",
    "version": 3
   },
   "file_extension": ".py",
   "mimetype": "text/x-python",
   "name": "python",
   "nbconvert_exporter": "python",
   "pygments_lexer": "ipython3",
   "version": "3.6.5"
  }
 },
 "nbformat": 4,
 "nbformat_minor": 2
}
