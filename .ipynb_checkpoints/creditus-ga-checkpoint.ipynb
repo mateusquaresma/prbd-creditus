{
 "cells": [
  {
   "cell_type": "code",
   "execution_count": 3,
   "metadata": {},
   "outputs": [],
   "source": [
    "import numpy as np\n",
    "import pandas as pd"
   ]
  },
  {
   "cell_type": "code",
   "execution_count": 164,
   "metadata": {},
   "outputs": [],
   "source": [
    "def fitness(theta, no_result, examples):\n",
    "    nac = 0\n",
    "    nic = 0\n",
    "    ta = 0\n",
    "    ti = 0\n",
    "    \n",
    "    # Cria um array contendo 100 indices que serão visitados na matriz original, para testar a qualidade deste cromossomo\n",
    "    indexes = np.random.randint(no_result.shape[0], size=100)\n",
    "\n",
    "    for i in indexes:\n",
    "        cr = no_result.iloc[i] * theta\n",
    "        cr_sum = cr.sum()\n",
    "        if ((cr_sum > 0) and (examples.iloc[i].Resultado == \"A\")):\n",
    "            nac += 1\n",
    "        elif ((cr_sum < 0) and (examples.iloc[i].Resultado == \"I\")):\n",
    "            nic += 1\n",
    "            \n",
    "        if (examples.iloc[i].Resultado == \"A\"):\n",
    "            ta += 1\n",
    "        else:\n",
    "            ti += 1\n",
    "\n",
    "    return (nac * nic) / (ta * ti)"
   ]
  },
  {
   "cell_type": "code",
   "execution_count": 179,
   "metadata": {},
   "outputs": [],
   "source": [
    "def gen_cr(cr_size, amount = 1):\n",
    "    return np.random.uniform(low=-1., high=1., size=cr_size)"
   ]
  },
  {
   "cell_type": "code",
   "execution_count": 224,
   "metadata": {},
   "outputs": [],
   "source": [
    "def crossover(first, second, amount):\n",
    "    parent_size = first.size\n",
    "    offsprings = []\n",
    "\n",
    "    for i in range(amount):\n",
    "        random_index = np.random.randint(parent_size, size=1)[0]\n",
    "        first_part = first[:random_index]\n",
    "        second_part = second[random_index:]\n",
    "        offspring = np.append(first_part, second_part)\n",
    "        offsprings.append(offspring)\n",
    "    \n",
    "    return np.array(offsprings)"
   ]
  },
  {
   "cell_type": "code",
   "execution_count": 255,
   "metadata": {},
   "outputs": [],
   "source": [
    "def mutate(cr):\n",
    "    random_cr_index = np.random.randint(cr.size, size=1)[0]\n",
    "    cr[random_cr_index] = np.random.uniform(low=-1., high=1., size=no_result.shape[1])[0]\n",
    "    return cr\n",
    "    "
   ]
  },
  {
   "cell_type": "code",
   "execution_count": 237,
   "metadata": {},
   "outputs": [],
   "source": [
    "examples = pd.read_csv(\"data/creditus-data.csv\", sep=\";\", index_col=0, header=0)"
   ]
  },
  {
   "cell_type": "code",
   "execution_count": 50,
   "metadata": {
    "scrolled": true
   },
   "outputs": [
    {
     "data": {
      "text/html": [
       "<div>\n",
       "<style scoped>\n",
       "    .dataframe tbody tr th:only-of-type {\n",
       "        vertical-align: middle;\n",
       "    }\n",
       "\n",
       "    .dataframe tbody tr th {\n",
       "        vertical-align: top;\n",
       "    }\n",
       "\n",
       "    .dataframe thead th {\n",
       "        text-align: right;\n",
       "    }\n",
       "</style>\n",
       "<table border=\"1\" class=\"dataframe\">\n",
       "  <thead>\n",
       "    <tr style=\"text-align: right;\">\n",
       "      <th></th>\n",
       "      <th>X11</th>\n",
       "      <th>X12</th>\n",
       "      <th>X21</th>\n",
       "      <th>X22</th>\n",
       "      <th>X31</th>\n",
       "      <th>X32</th>\n",
       "      <th>X41</th>\n",
       "      <th>X42</th>\n",
       "      <th>X51</th>\n",
       "      <th>X52</th>\n",
       "      <th>X61</th>\n",
       "      <th>X62</th>\n",
       "      <th>X71</th>\n",
       "      <th>X72</th>\n",
       "      <th>X81</th>\n",
       "      <th>X82</th>\n",
       "      <th>X91</th>\n",
       "      <th>X92</th>\n",
       "      <th>Resultado</th>\n",
       "    </tr>\n",
       "  </thead>\n",
       "  <tbody>\n",
       "    <tr>\n",
       "      <th>Y001</th>\n",
       "      <td>1</td>\n",
       "      <td>0</td>\n",
       "      <td>0</td>\n",
       "      <td>1</td>\n",
       "      <td>1</td>\n",
       "      <td>0</td>\n",
       "      <td>0</td>\n",
       "      <td>1</td>\n",
       "      <td>0</td>\n",
       "      <td>1</td>\n",
       "      <td>1</td>\n",
       "      <td>0</td>\n",
       "      <td>0</td>\n",
       "      <td>1</td>\n",
       "      <td>1</td>\n",
       "      <td>0</td>\n",
       "      <td>1</td>\n",
       "      <td>0</td>\n",
       "      <td>A</td>\n",
       "    </tr>\n",
       "    <tr>\n",
       "      <th>Y002</th>\n",
       "      <td>0</td>\n",
       "      <td>1</td>\n",
       "      <td>0</td>\n",
       "      <td>1</td>\n",
       "      <td>1</td>\n",
       "      <td>0</td>\n",
       "      <td>0</td>\n",
       "      <td>1</td>\n",
       "      <td>0</td>\n",
       "      <td>1</td>\n",
       "      <td>1</td>\n",
       "      <td>0</td>\n",
       "      <td>0</td>\n",
       "      <td>1</td>\n",
       "      <td>1</td>\n",
       "      <td>0</td>\n",
       "      <td>1</td>\n",
       "      <td>0</td>\n",
       "      <td>A</td>\n",
       "    </tr>\n",
       "    <tr>\n",
       "      <th>Y003</th>\n",
       "      <td>1</td>\n",
       "      <td>0</td>\n",
       "      <td>1</td>\n",
       "      <td>0</td>\n",
       "      <td>0</td>\n",
       "      <td>1</td>\n",
       "      <td>1</td>\n",
       "      <td>0</td>\n",
       "      <td>1</td>\n",
       "      <td>0</td>\n",
       "      <td>0</td>\n",
       "      <td>1</td>\n",
       "      <td>1</td>\n",
       "      <td>0</td>\n",
       "      <td>0</td>\n",
       "      <td>1</td>\n",
       "      <td>0</td>\n",
       "      <td>1</td>\n",
       "      <td>I</td>\n",
       "    </tr>\n",
       "    <tr>\n",
       "      <th>Y004</th>\n",
       "      <td>1</td>\n",
       "      <td>0</td>\n",
       "      <td>1</td>\n",
       "      <td>0</td>\n",
       "      <td>0</td>\n",
       "      <td>1</td>\n",
       "      <td>1</td>\n",
       "      <td>0</td>\n",
       "      <td>1</td>\n",
       "      <td>0</td>\n",
       "      <td>0</td>\n",
       "      <td>1</td>\n",
       "      <td>1</td>\n",
       "      <td>0</td>\n",
       "      <td>0</td>\n",
       "      <td>1</td>\n",
       "      <td>0</td>\n",
       "      <td>1</td>\n",
       "      <td>I</td>\n",
       "    </tr>\n",
       "    <tr>\n",
       "      <th>Y005</th>\n",
       "      <td>0</td>\n",
       "      <td>1</td>\n",
       "      <td>0</td>\n",
       "      <td>1</td>\n",
       "      <td>1</td>\n",
       "      <td>0</td>\n",
       "      <td>0</td>\n",
       "      <td>1</td>\n",
       "      <td>0</td>\n",
       "      <td>1</td>\n",
       "      <td>1</td>\n",
       "      <td>0</td>\n",
       "      <td>0</td>\n",
       "      <td>1</td>\n",
       "      <td>1</td>\n",
       "      <td>0</td>\n",
       "      <td>1</td>\n",
       "      <td>0</td>\n",
       "      <td>A</td>\n",
       "    </tr>\n",
       "  </tbody>\n",
       "</table>\n",
       "</div>"
      ],
      "text/plain": [
       "      X11  X12  X21  X22  X31  X32  X41  X42  X51  X52  X61  X62  X71  X72  \\\n",
       "Y001    1    0    0    1    1    0    0    1    0    1    1    0    0    1   \n",
       "Y002    0    1    0    1    1    0    0    1    0    1    1    0    0    1   \n",
       "Y003    1    0    1    0    0    1    1    0    1    0    0    1    1    0   \n",
       "Y004    1    0    1    0    0    1    1    0    1    0    0    1    1    0   \n",
       "Y005    0    1    0    1    1    0    0    1    0    1    1    0    0    1   \n",
       "\n",
       "      X81  X82  X91  X92 Resultado  \n",
       "Y001    1    0    1    0         A  \n",
       "Y002    1    0    1    0         A  \n",
       "Y003    0    1    0    1         I  \n",
       "Y004    0    1    0    1         I  \n",
       "Y005    1    0    1    0         A  "
      ]
     },
     "execution_count": 50,
     "metadata": {},
     "output_type": "execute_result"
    }
   ],
   "source": [
    "examples.head(5)"
   ]
  },
  {
   "cell_type": "code",
   "execution_count": 56,
   "metadata": {},
   "outputs": [],
   "source": [
    "# Variáveis do problema, conforme apostila\n",
    "ta = examples[examples.Resultado == 'A'].shape[0]  # número total de adimplentes \n",
    "ti = examples[examples.Resultado == 'I'].shape[0]  # número total de inadimplentes"
   ]
  },
  {
   "cell_type": "code",
   "execution_count": 57,
   "metadata": {},
   "outputs": [],
   "source": [
    "no_result = examples.drop([\"Resultado\"], axis = 1)"
   ]
  },
  {
   "cell_type": "code",
   "execution_count": 58,
   "metadata": {},
   "outputs": [
    {
     "data": {
      "text/html": [
       "<div>\n",
       "<style scoped>\n",
       "    .dataframe tbody tr th:only-of-type {\n",
       "        vertical-align: middle;\n",
       "    }\n",
       "\n",
       "    .dataframe tbody tr th {\n",
       "        vertical-align: top;\n",
       "    }\n",
       "\n",
       "    .dataframe thead th {\n",
       "        text-align: right;\n",
       "    }\n",
       "</style>\n",
       "<table border=\"1\" class=\"dataframe\">\n",
       "  <thead>\n",
       "    <tr style=\"text-align: right;\">\n",
       "      <th></th>\n",
       "      <th>X11</th>\n",
       "      <th>X12</th>\n",
       "      <th>X21</th>\n",
       "      <th>X22</th>\n",
       "      <th>X31</th>\n",
       "      <th>X32</th>\n",
       "      <th>X41</th>\n",
       "      <th>X42</th>\n",
       "      <th>X51</th>\n",
       "      <th>X52</th>\n",
       "      <th>X61</th>\n",
       "      <th>X62</th>\n",
       "      <th>X71</th>\n",
       "      <th>X72</th>\n",
       "      <th>X81</th>\n",
       "      <th>X82</th>\n",
       "      <th>X91</th>\n",
       "      <th>X92</th>\n",
       "    </tr>\n",
       "  </thead>\n",
       "  <tbody>\n",
       "    <tr>\n",
       "      <th>Y001</th>\n",
       "      <td>1</td>\n",
       "      <td>0</td>\n",
       "      <td>0</td>\n",
       "      <td>1</td>\n",
       "      <td>1</td>\n",
       "      <td>0</td>\n",
       "      <td>0</td>\n",
       "      <td>1</td>\n",
       "      <td>0</td>\n",
       "      <td>1</td>\n",
       "      <td>1</td>\n",
       "      <td>0</td>\n",
       "      <td>0</td>\n",
       "      <td>1</td>\n",
       "      <td>1</td>\n",
       "      <td>0</td>\n",
       "      <td>1</td>\n",
       "      <td>0</td>\n",
       "    </tr>\n",
       "    <tr>\n",
       "      <th>Y002</th>\n",
       "      <td>0</td>\n",
       "      <td>1</td>\n",
       "      <td>0</td>\n",
       "      <td>1</td>\n",
       "      <td>1</td>\n",
       "      <td>0</td>\n",
       "      <td>0</td>\n",
       "      <td>1</td>\n",
       "      <td>0</td>\n",
       "      <td>1</td>\n",
       "      <td>1</td>\n",
       "      <td>0</td>\n",
       "      <td>0</td>\n",
       "      <td>1</td>\n",
       "      <td>1</td>\n",
       "      <td>0</td>\n",
       "      <td>1</td>\n",
       "      <td>0</td>\n",
       "    </tr>\n",
       "    <tr>\n",
       "      <th>Y003</th>\n",
       "      <td>1</td>\n",
       "      <td>0</td>\n",
       "      <td>1</td>\n",
       "      <td>0</td>\n",
       "      <td>0</td>\n",
       "      <td>1</td>\n",
       "      <td>1</td>\n",
       "      <td>0</td>\n",
       "      <td>1</td>\n",
       "      <td>0</td>\n",
       "      <td>0</td>\n",
       "      <td>1</td>\n",
       "      <td>1</td>\n",
       "      <td>0</td>\n",
       "      <td>0</td>\n",
       "      <td>1</td>\n",
       "      <td>0</td>\n",
       "      <td>1</td>\n",
       "    </tr>\n",
       "    <tr>\n",
       "      <th>Y004</th>\n",
       "      <td>1</td>\n",
       "      <td>0</td>\n",
       "      <td>1</td>\n",
       "      <td>0</td>\n",
       "      <td>0</td>\n",
       "      <td>1</td>\n",
       "      <td>1</td>\n",
       "      <td>0</td>\n",
       "      <td>1</td>\n",
       "      <td>0</td>\n",
       "      <td>0</td>\n",
       "      <td>1</td>\n",
       "      <td>1</td>\n",
       "      <td>0</td>\n",
       "      <td>0</td>\n",
       "      <td>1</td>\n",
       "      <td>0</td>\n",
       "      <td>1</td>\n",
       "    </tr>\n",
       "    <tr>\n",
       "      <th>Y005</th>\n",
       "      <td>0</td>\n",
       "      <td>1</td>\n",
       "      <td>0</td>\n",
       "      <td>1</td>\n",
       "      <td>1</td>\n",
       "      <td>0</td>\n",
       "      <td>0</td>\n",
       "      <td>1</td>\n",
       "      <td>0</td>\n",
       "      <td>1</td>\n",
       "      <td>1</td>\n",
       "      <td>0</td>\n",
       "      <td>0</td>\n",
       "      <td>1</td>\n",
       "      <td>1</td>\n",
       "      <td>0</td>\n",
       "      <td>1</td>\n",
       "      <td>0</td>\n",
       "    </tr>\n",
       "  </tbody>\n",
       "</table>\n",
       "</div>"
      ],
      "text/plain": [
       "      X11  X12  X21  X22  X31  X32  X41  X42  X51  X52  X61  X62  X71  X72  \\\n",
       "Y001    1    0    0    1    1    0    0    1    0    1    1    0    0    1   \n",
       "Y002    0    1    0    1    1    0    0    1    0    1    1    0    0    1   \n",
       "Y003    1    0    1    0    0    1    1    0    1    0    0    1    1    0   \n",
       "Y004    1    0    1    0    0    1    1    0    1    0    0    1    1    0   \n",
       "Y005    0    1    0    1    1    0    0    1    0    1    1    0    0    1   \n",
       "\n",
       "      X81  X82  X91  X92  \n",
       "Y001    1    0    1    0  \n",
       "Y002    1    0    1    0  \n",
       "Y003    0    1    0    1  \n",
       "Y004    0    1    0    1  \n",
       "Y005    1    0    1    0  "
      ]
     },
     "execution_count": 58,
     "metadata": {},
     "output_type": "execute_result"
    }
   ],
   "source": [
    "no_result.head(5)"
   ]
  },
  {
   "cell_type": "code",
   "execution_count": 59,
   "metadata": {},
   "outputs": [],
   "source": [
    "# Cria uma matriz de tamanho equivalente a matriz no_result\n",
    "random_values = np.random.uniform(low=-1., high=1., size=no_result.shape)"
   ]
  },
  {
   "cell_type": "code",
   "execution_count": 60,
   "metadata": {},
   "outputs": [
    {
     "data": {
      "text/plain": [
       "array([[ 0.42590403, -0.45167364,  0.02517421, ..., -0.5667495 ,\n",
       "        -0.56761999, -0.62111265],\n",
       "       [ 0.86412822,  0.85733012,  0.93705655, ...,  0.19404253,\n",
       "         0.91722803, -0.38880212],\n",
       "       [-0.93135819, -0.19685454, -0.09065943, ...,  0.25332453,\n",
       "        -0.17449041,  0.28209181],\n",
       "       ...,\n",
       "       [-0.4031762 ,  0.95326238,  0.50726953, ...,  0.77808152,\n",
       "         0.11406423,  0.66405351],\n",
       "       [ 0.04175133,  0.42234929,  0.34034413, ..., -0.16316022,\n",
       "         0.4936991 , -0.28844391],\n",
       "       [ 0.25041605, -0.73685822, -0.13506883, ..., -0.4352727 ,\n",
       "         0.2203615 ,  0.45090456]])"
      ]
     },
     "execution_count": 60,
     "metadata": {},
     "output_type": "execute_result"
    }
   ],
   "source": [
    "random_values"
   ]
  },
  {
   "cell_type": "code",
   "execution_count": 61,
   "metadata": {},
   "outputs": [],
   "source": [
    "cr = no_result * random_values"
   ]
  },
  {
   "cell_type": "code",
   "execution_count": 62,
   "metadata": {},
   "outputs": [
    {
     "data": {
      "text/html": [
       "<div>\n",
       "<style scoped>\n",
       "    .dataframe tbody tr th:only-of-type {\n",
       "        vertical-align: middle;\n",
       "    }\n",
       "\n",
       "    .dataframe tbody tr th {\n",
       "        vertical-align: top;\n",
       "    }\n",
       "\n",
       "    .dataframe thead th {\n",
       "        text-align: right;\n",
       "    }\n",
       "</style>\n",
       "<table border=\"1\" class=\"dataframe\">\n",
       "  <thead>\n",
       "    <tr style=\"text-align: right;\">\n",
       "      <th></th>\n",
       "      <th>X11</th>\n",
       "      <th>X12</th>\n",
       "      <th>X21</th>\n",
       "      <th>X22</th>\n",
       "      <th>X31</th>\n",
       "      <th>X32</th>\n",
       "      <th>X41</th>\n",
       "      <th>X42</th>\n",
       "      <th>X51</th>\n",
       "      <th>X52</th>\n",
       "      <th>X61</th>\n",
       "      <th>X62</th>\n",
       "      <th>X71</th>\n",
       "      <th>X72</th>\n",
       "      <th>X81</th>\n",
       "      <th>X82</th>\n",
       "      <th>X91</th>\n",
       "      <th>X92</th>\n",
       "    </tr>\n",
       "  </thead>\n",
       "  <tbody>\n",
       "    <tr>\n",
       "      <th>Y001</th>\n",
       "      <td>0.425904</td>\n",
       "      <td>-0.000000</td>\n",
       "      <td>0.000000</td>\n",
       "      <td>0.496130</td>\n",
       "      <td>0.566755</td>\n",
       "      <td>0.000000</td>\n",
       "      <td>-0.000000</td>\n",
       "      <td>-0.526285</td>\n",
       "      <td>-0.000000</td>\n",
       "      <td>0.002116</td>\n",
       "      <td>0.083096</td>\n",
       "      <td>0.000000</td>\n",
       "      <td>-0.000000</td>\n",
       "      <td>-0.088502</td>\n",
       "      <td>0.285061</td>\n",
       "      <td>-0.000000</td>\n",
       "      <td>-0.567620</td>\n",
       "      <td>-0.000000</td>\n",
       "    </tr>\n",
       "    <tr>\n",
       "      <th>Y002</th>\n",
       "      <td>0.000000</td>\n",
       "      <td>0.857330</td>\n",
       "      <td>0.000000</td>\n",
       "      <td>0.730668</td>\n",
       "      <td>0.265410</td>\n",
       "      <td>0.000000</td>\n",
       "      <td>0.000000</td>\n",
       "      <td>0.235278</td>\n",
       "      <td>0.000000</td>\n",
       "      <td>0.448204</td>\n",
       "      <td>0.488378</td>\n",
       "      <td>0.000000</td>\n",
       "      <td>-0.000000</td>\n",
       "      <td>0.455317</td>\n",
       "      <td>-0.133445</td>\n",
       "      <td>0.000000</td>\n",
       "      <td>0.917228</td>\n",
       "      <td>-0.000000</td>\n",
       "    </tr>\n",
       "    <tr>\n",
       "      <th>Y003</th>\n",
       "      <td>-0.931358</td>\n",
       "      <td>-0.000000</td>\n",
       "      <td>-0.090659</td>\n",
       "      <td>-0.000000</td>\n",
       "      <td>0.000000</td>\n",
       "      <td>0.233852</td>\n",
       "      <td>-0.912520</td>\n",
       "      <td>0.000000</td>\n",
       "      <td>0.437552</td>\n",
       "      <td>-0.000000</td>\n",
       "      <td>-0.000000</td>\n",
       "      <td>0.940994</td>\n",
       "      <td>-0.587175</td>\n",
       "      <td>0.000000</td>\n",
       "      <td>-0.000000</td>\n",
       "      <td>0.253325</td>\n",
       "      <td>-0.000000</td>\n",
       "      <td>0.282092</td>\n",
       "    </tr>\n",
       "    <tr>\n",
       "      <th>Y004</th>\n",
       "      <td>-0.469268</td>\n",
       "      <td>0.000000</td>\n",
       "      <td>0.399612</td>\n",
       "      <td>0.000000</td>\n",
       "      <td>0.000000</td>\n",
       "      <td>-0.992934</td>\n",
       "      <td>0.034721</td>\n",
       "      <td>-0.000000</td>\n",
       "      <td>-0.767077</td>\n",
       "      <td>0.000000</td>\n",
       "      <td>-0.000000</td>\n",
       "      <td>-0.692777</td>\n",
       "      <td>-0.227027</td>\n",
       "      <td>0.000000</td>\n",
       "      <td>-0.000000</td>\n",
       "      <td>-0.607794</td>\n",
       "      <td>0.000000</td>\n",
       "      <td>0.632373</td>\n",
       "    </tr>\n",
       "    <tr>\n",
       "      <th>Y005</th>\n",
       "      <td>-0.000000</td>\n",
       "      <td>0.688682</td>\n",
       "      <td>-0.000000</td>\n",
       "      <td>0.871613</td>\n",
       "      <td>0.857557</td>\n",
       "      <td>0.000000</td>\n",
       "      <td>0.000000</td>\n",
       "      <td>-0.767932</td>\n",
       "      <td>-0.000000</td>\n",
       "      <td>0.480280</td>\n",
       "      <td>-0.352691</td>\n",
       "      <td>-0.000000</td>\n",
       "      <td>-0.000000</td>\n",
       "      <td>0.698143</td>\n",
       "      <td>0.596755</td>\n",
       "      <td>0.000000</td>\n",
       "      <td>-0.593686</td>\n",
       "      <td>0.000000</td>\n",
       "    </tr>\n",
       "  </tbody>\n",
       "</table>\n",
       "</div>"
      ],
      "text/plain": [
       "           X11       X12       X21       X22       X31       X32       X41  \\\n",
       "Y001  0.425904 -0.000000  0.000000  0.496130  0.566755  0.000000 -0.000000   \n",
       "Y002  0.000000  0.857330  0.000000  0.730668  0.265410  0.000000  0.000000   \n",
       "Y003 -0.931358 -0.000000 -0.090659 -0.000000  0.000000  0.233852 -0.912520   \n",
       "Y004 -0.469268  0.000000  0.399612  0.000000  0.000000 -0.992934  0.034721   \n",
       "Y005 -0.000000  0.688682 -0.000000  0.871613  0.857557  0.000000  0.000000   \n",
       "\n",
       "           X42       X51       X52       X61       X62       X71       X72  \\\n",
       "Y001 -0.526285 -0.000000  0.002116  0.083096  0.000000 -0.000000 -0.088502   \n",
       "Y002  0.235278  0.000000  0.448204  0.488378  0.000000 -0.000000  0.455317   \n",
       "Y003  0.000000  0.437552 -0.000000 -0.000000  0.940994 -0.587175  0.000000   \n",
       "Y004 -0.000000 -0.767077  0.000000 -0.000000 -0.692777 -0.227027  0.000000   \n",
       "Y005 -0.767932 -0.000000  0.480280 -0.352691 -0.000000 -0.000000  0.698143   \n",
       "\n",
       "           X81       X82       X91       X92  \n",
       "Y001  0.285061 -0.000000 -0.567620 -0.000000  \n",
       "Y002 -0.133445  0.000000  0.917228 -0.000000  \n",
       "Y003 -0.000000  0.253325 -0.000000  0.282092  \n",
       "Y004 -0.000000 -0.607794  0.000000  0.632373  \n",
       "Y005  0.596755  0.000000 -0.593686  0.000000  "
      ]
     },
     "execution_count": 62,
     "metadata": {},
     "output_type": "execute_result"
    }
   ],
   "source": [
    "cr.head(5)"
   ]
  },
  {
   "cell_type": "code",
   "execution_count": 71,
   "metadata": {},
   "outputs": [],
   "source": [
    "cr_sum = cr.sum(axis=1)"
   ]
  },
  {
   "cell_type": "code",
   "execution_count": 72,
   "metadata": {},
   "outputs": [
    {
     "data": {
      "text/plain": [
       "Y001    0.676655\n",
       "Y002    4.264368\n",
       "Y003   -0.373898\n",
       "Y004   -2.690171\n",
       "Y005    2.478720\n",
       "dtype: float64"
      ]
     },
     "execution_count": 72,
     "metadata": {},
     "output_type": "execute_result"
    }
   ],
   "source": [
    "cr_sum.head(5)"
   ]
  },
  {
   "cell_type": "code",
   "execution_count": 76,
   "metadata": {},
   "outputs": [
    {
     "data": {
      "text/plain": [
       "Y001    A\n",
       "Y002    A\n",
       "Y003    I\n",
       "Y004    I\n",
       "Y005    A\n",
       "Name: Resultado, dtype: object"
      ]
     },
     "execution_count": 76,
     "metadata": {},
     "output_type": "execute_result"
    }
   ],
   "source": [
    "pd.Series(examples.Resultado).head(5)"
   ]
  },
  {
   "cell_type": "code",
   "execution_count": 77,
   "metadata": {},
   "outputs": [
    {
     "data": {
      "text/plain": [
       "Y001    0.676655\n",
       "Y002    4.264368\n",
       "Y003   -0.373898\n",
       "Y004   -2.690171\n",
       "Y005    2.478720\n",
       "dtype: float64"
      ]
     },
     "execution_count": 77,
     "metadata": {},
     "output_type": "execute_result"
    }
   ],
   "source": [
    "cr_sum.head(5)"
   ]
  },
  {
   "cell_type": "code",
   "execution_count": 89,
   "metadata": {},
   "outputs": [],
   "source": [
    "dict = {\n",
    "    \"summation\": pd.Series(cr_sum),\n",
    "    \"label\": pd.Series(examples.Resultado)\n",
    "}"
   ]
  },
  {
   "cell_type": "code",
   "execution_count": 90,
   "metadata": {},
   "outputs": [],
   "source": [
    "labeled_cr = pd.DataFrame(dict)"
   ]
  },
  {
   "cell_type": "code",
   "execution_count": 91,
   "metadata": {},
   "outputs": [
    {
     "data": {
      "text/html": [
       "<div>\n",
       "<style scoped>\n",
       "    .dataframe tbody tr th:only-of-type {\n",
       "        vertical-align: middle;\n",
       "    }\n",
       "\n",
       "    .dataframe tbody tr th {\n",
       "        vertical-align: top;\n",
       "    }\n",
       "\n",
       "    .dataframe thead th {\n",
       "        text-align: right;\n",
       "    }\n",
       "</style>\n",
       "<table border=\"1\" class=\"dataframe\">\n",
       "  <thead>\n",
       "    <tr style=\"text-align: right;\">\n",
       "      <th></th>\n",
       "      <th>summation</th>\n",
       "      <th>label</th>\n",
       "    </tr>\n",
       "  </thead>\n",
       "  <tbody>\n",
       "    <tr>\n",
       "      <th>Y001</th>\n",
       "      <td>0.676655</td>\n",
       "      <td>A</td>\n",
       "    </tr>\n",
       "    <tr>\n",
       "      <th>Y002</th>\n",
       "      <td>4.264368</td>\n",
       "      <td>A</td>\n",
       "    </tr>\n",
       "    <tr>\n",
       "      <th>Y003</th>\n",
       "      <td>-0.373898</td>\n",
       "      <td>I</td>\n",
       "    </tr>\n",
       "    <tr>\n",
       "      <th>Y004</th>\n",
       "      <td>-2.690171</td>\n",
       "      <td>I</td>\n",
       "    </tr>\n",
       "    <tr>\n",
       "      <th>Y005</th>\n",
       "      <td>2.478720</td>\n",
       "      <td>A</td>\n",
       "    </tr>\n",
       "  </tbody>\n",
       "</table>\n",
       "</div>"
      ],
      "text/plain": [
       "      summation label\n",
       "Y001   0.676655     A\n",
       "Y002   4.264368     A\n",
       "Y003  -0.373898     I\n",
       "Y004  -2.690171     I\n",
       "Y005   2.478720     A"
      ]
     },
     "execution_count": 91,
     "metadata": {},
     "output_type": "execute_result"
    }
   ],
   "source": [
    "labeled_cr.head(5)"
   ]
  },
  {
   "cell_type": "code",
   "execution_count": 99,
   "metadata": {},
   "outputs": [],
   "source": [
    "nac = labeled_cr[(labeled_cr.summation > 0) & (labeled_cr.label == \"A\")]\n",
    "nic = labeled_cr[(labeled_cr.summation < 0) & (labeled_cr.label == \"I\")]"
   ]
  },
  {
   "cell_type": "code",
   "execution_count": 101,
   "metadata": {},
   "outputs": [
    {
     "data": {
      "text/html": [
       "<div>\n",
       "<style scoped>\n",
       "    .dataframe tbody tr th:only-of-type {\n",
       "        vertical-align: middle;\n",
       "    }\n",
       "\n",
       "    .dataframe tbody tr th {\n",
       "        vertical-align: top;\n",
       "    }\n",
       "\n",
       "    .dataframe thead th {\n",
       "        text-align: right;\n",
       "    }\n",
       "</style>\n",
       "<table border=\"1\" class=\"dataframe\">\n",
       "  <thead>\n",
       "    <tr style=\"text-align: right;\">\n",
       "      <th></th>\n",
       "      <th>summation</th>\n",
       "      <th>label</th>\n",
       "    </tr>\n",
       "  </thead>\n",
       "  <tbody>\n",
       "    <tr>\n",
       "      <th>Y001</th>\n",
       "      <td>0.676655</td>\n",
       "      <td>A</td>\n",
       "    </tr>\n",
       "    <tr>\n",
       "      <th>Y002</th>\n",
       "      <td>4.264368</td>\n",
       "      <td>A</td>\n",
       "    </tr>\n",
       "    <tr>\n",
       "      <th>Y005</th>\n",
       "      <td>2.478720</td>\n",
       "      <td>A</td>\n",
       "    </tr>\n",
       "    <tr>\n",
       "      <th>Y012</th>\n",
       "      <td>1.585324</td>\n",
       "      <td>A</td>\n",
       "    </tr>\n",
       "    <tr>\n",
       "      <th>Y015</th>\n",
       "      <td>0.434927</td>\n",
       "      <td>A</td>\n",
       "    </tr>\n",
       "  </tbody>\n",
       "</table>\n",
       "</div>"
      ],
      "text/plain": [
       "      summation label\n",
       "Y001   0.676655     A\n",
       "Y002   4.264368     A\n",
       "Y005   2.478720     A\n",
       "Y012   1.585324     A\n",
       "Y015   0.434927     A"
      ]
     },
     "execution_count": 101,
     "metadata": {},
     "output_type": "execute_result"
    }
   ],
   "source": [
    "nac.head(5) # O cálculo do NAC e NIC ainda não fazem sentido..."
   ]
  },
  {
   "cell_type": "code",
   "execution_count": 162,
   "metadata": {},
   "outputs": [
    {
     "data": {
      "text/plain": [
       "array([152, 126, 541, 333, 249, 171, 152, 220, 453, 186,  89,  21,  53,\n",
       "       484, 239, 411, 286, 336, 314, 276, 434, 355, 294, 253, 537, 443,\n",
       "       374, 480, 543, 115, 517, 227, 554, 260, 261, 395,  48, 448, 200,\n",
       "       325, 336, 227, 529, 466, 246,  81, 253,  23, 278, 462, 439, 330,\n",
       "       273, 331, 404, 200, 108, 292, 186, 489, 234, 311, 176,  16, 394,\n",
       "       362, 250, 395,  58,  60,  44, 245, 245, 370, 345, 448, 463, 142,\n",
       "       532, 104, 233, 527, 335, 144, 345,  39, 355, 308,  29, 443,  85,\n",
       "       247, 281, 351,  56, 293, 233,  74, 144, 421])"
      ]
     },
     "execution_count": 162,
     "metadata": {},
     "output_type": "execute_result"
    }
   ],
   "source": [
    "# Cria um array de tamanho equivalente à linha da matriz, parece mais conveniente que a abordagem anterior\n",
    "random_theta = np.random.uniform(low=-1., high=1., size=no_result.shape[1])"
   ]
  },
  {
   "cell_type": "code",
   "execution_count": 169,
   "metadata": {},
   "outputs": [
    {
     "data": {
      "text/plain": [
       "0.4853472501003613"
      ]
     },
     "execution_count": 169,
     "metadata": {},
     "output_type": "execute_result"
    }
   ],
   "source": [
    "fitness(random_theta, no_result, examples)"
   ]
  },
  {
   "cell_type": "code",
   "execution_count": 183,
   "metadata": {},
   "outputs": [
    {
     "data": {
      "text/plain": [
       "array([-0.08436532, -0.63573096,  0.12753035, -0.23635688,  0.85883436,\n",
       "       -0.43947942, -0.62653182,  0.82064429,  0.7676938 , -0.41767118,\n",
       "       -0.17237889, -0.37189714, -0.9952791 ,  0.40211408, -0.74516488,\n",
       "       -0.72059215, -0.50081093,  0.60275534])"
      ]
     },
     "execution_count": 183,
     "metadata": {},
     "output_type": "execute_result"
    }
   ],
   "source": [
    "cr_size = no_result.shape[1]\n",
    "gen_cr(cr_size)"
   ]
  },
  {
   "cell_type": "code",
   "execution_count": 225,
   "metadata": {},
   "outputs": [
    {
     "name": "stdout",
     "output_type": "stream",
     "text": [
      "8\n",
      "13\n",
      "4\n"
     ]
    },
    {
     "data": {
      "text/plain": [
       "array([[ 0.68369649,  0.45627449, -0.67823418, -0.83789409, -0.79578567,\n",
       "         0.49147685, -0.08043369,  0.95890342, -0.24661582, -0.03993457,\n",
       "         0.26005681, -0.26168294,  0.80869204,  0.19069756, -0.30720692,\n",
       "         0.54367761,  0.50402408,  0.28012737],\n",
       "       [ 0.68369649,  0.45627449, -0.67823418, -0.83789409, -0.79578567,\n",
       "         0.49147685, -0.08043369,  0.95890342,  0.25937182,  0.96085438,\n",
       "         0.44179899,  0.20704665,  0.61841799,  0.19069756, -0.30720692,\n",
       "         0.54367761,  0.50402408,  0.28012737],\n",
       "       [ 0.68369649,  0.45627449, -0.67823418, -0.83789409, -0.66522914,\n",
       "         0.70275265, -0.37592518, -0.78631766, -0.24661582, -0.03993457,\n",
       "         0.26005681, -0.26168294,  0.80869204,  0.19069756, -0.30720692,\n",
       "         0.54367761,  0.50402408,  0.28012737]])"
      ]
     },
     "execution_count": 225,
     "metadata": {},
     "output_type": "execute_result"
    }
   ],
   "source": [
    "crossover(gen_cr(cr_size), gen_cr(cr_size), 3)"
   ]
  },
  {
   "cell_type": "code",
   "execution_count": 256,
   "metadata": {},
   "outputs": [
    {
     "data": {
      "text/plain": [
       "array([-0.40201449, -0.21379754, -0.09326929,  0.69717776,  0.79360348,\n",
       "        0.40264223, -0.69342218, -0.93779285, -0.49798397, -0.29033724,\n",
       "        0.04408634,  0.99520176, -0.67830867,  0.93718829,  0.70373323,\n",
       "       -0.24841026, -0.00808347, -0.51167873])"
      ]
     },
     "execution_count": 256,
     "metadata": {},
     "output_type": "execute_result"
    }
   ],
   "source": [
    "mutate(gen_cr(cr_size))"
   ]
  },
  {
   "cell_type": "code",
   "execution_count": null,
   "metadata": {},
   "outputs": [],
   "source": []
  }
 ],
 "metadata": {
  "kernelspec": {
   "display_name": "Python 3",
   "language": "python",
   "name": "python3"
  },
  "language_info": {
   "codemirror_mode": {
    "name": "ipython",
    "version": 3
   },
   "file_extension": ".py",
   "mimetype": "text/x-python",
   "name": "python",
   "nbconvert_exporter": "python",
   "pygments_lexer": "ipython3",
   "version": "3.6.5"
  }
 },
 "nbformat": 4,
 "nbformat_minor": 2
}
