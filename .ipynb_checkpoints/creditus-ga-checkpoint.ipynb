{
 "cells": [
  {
   "cell_type": "code",
   "execution_count": 124,
   "metadata": {},
   "outputs": [],
   "source": [
    "import numpy as np\n",
    "import pandas as pd\n",
    "import random as rnd"
   ]
  },
  {
   "cell_type": "code",
   "execution_count": 2,
   "metadata": {},
   "outputs": [],
   "source": [
    "def fitness(theta, no_result, examples):\n",
    "    nac = 0\n",
    "    nic = 0\n",
    "    ta = 0\n",
    "    ti = 0\n",
    "    \n",
    "    # Cria um array contendo 100 indices que serão visitados na matriz original, para testar a qualidade deste cromossomo\n",
    "    indexes = np.random.randint(no_result.shape[0], size=100)\n",
    "\n",
    "    for i in indexes:\n",
    "        cr = no_result.iloc[i] * theta\n",
    "        cr_sum = cr.sum()\n",
    "        if ((cr_sum > 0) and (examples.iloc[i].Resultado == \"A\")):\n",
    "            nac += 1\n",
    "        elif ((cr_sum < 0) and (examples.iloc[i].Resultado == \"I\")):\n",
    "            nic += 1\n",
    "            \n",
    "        if (examples.iloc[i].Resultado == \"A\"):\n",
    "            ta += 1\n",
    "        else:\n",
    "            ti += 1\n",
    "\n",
    "    return (nac * nic) / (ta * ti)"
   ]
  },
  {
   "cell_type": "code",
   "execution_count": 33,
   "metadata": {},
   "outputs": [],
   "source": [
    "def gen_cr(features, amount=1):\n",
    "    return np.random.uniform(low=-1., high=1., size=(amount, features))"
   ]
  },
  {
   "cell_type": "code",
   "execution_count": 41,
   "metadata": {},
   "outputs": [],
   "source": [
    "def crossover(first, second, amount=3):\n",
    "    parent_size = first.size\n",
    "    offsprings = []\n",
    "\n",
    "    for i in range(amount):\n",
    "        random_index = np.random.randint(parent_size, size=1)[0]\n",
    "        first_part = first[:random_index]\n",
    "        second_part = second[random_index:]\n",
    "        offspring = np.append(first_part, second_part)\n",
    "        offsprings.append(offspring)\n",
    "    \n",
    "    return np.array(offsprings)"
   ]
  },
  {
   "cell_type": "code",
   "execution_count": 5,
   "metadata": {},
   "outputs": [],
   "source": [
    "def mutate(cr):\n",
    "    random_cr_index = np.random.randint(cr.size, size=1)[0]\n",
    "    cr[random_cr_index] = np.random.uniform(low=-1., high=1., size=no_result.shape[1])[0]\n",
    "    return cr"
   ]
  },
  {
   "cell_type": "code",
   "execution_count": 104,
   "metadata": {},
   "outputs": [],
   "source": [
    "def max2(data):\n",
    "    copied = data.copy()\n",
    "    sorted_data = np.sort(copied)\n",
    "    return (sorted_data[-1], sorted_data[-2])"
   ]
  },
  {
   "cell_type": "code",
   "execution_count": 110,
   "metadata": {},
   "outputs": [],
   "source": [
    "def min2(data):\n",
    "    copied = data.copy()\n",
    "    sorted_data = np.sort(copied)\n",
    "    return (sorted_data[0], sorted_data[1])"
   ]
  },
  {
   "cell_type": "code",
   "execution_count": 6,
   "metadata": {},
   "outputs": [],
   "source": [
    "examples = pd.read_csv(\"data/creditus-data.csv\", sep=\";\", index_col=0, header=0)"
   ]
  },
  {
   "cell_type": "code",
   "execution_count": 7,
   "metadata": {
    "scrolled": true
   },
   "outputs": [
    {
     "data": {
      "text/html": [
       "<div>\n",
       "<style scoped>\n",
       "    .dataframe tbody tr th:only-of-type {\n",
       "        vertical-align: middle;\n",
       "    }\n",
       "\n",
       "    .dataframe tbody tr th {\n",
       "        vertical-align: top;\n",
       "    }\n",
       "\n",
       "    .dataframe thead th {\n",
       "        text-align: right;\n",
       "    }\n",
       "</style>\n",
       "<table border=\"1\" class=\"dataframe\">\n",
       "  <thead>\n",
       "    <tr style=\"text-align: right;\">\n",
       "      <th></th>\n",
       "      <th>X11</th>\n",
       "      <th>X12</th>\n",
       "      <th>X21</th>\n",
       "      <th>X22</th>\n",
       "      <th>X31</th>\n",
       "      <th>X32</th>\n",
       "      <th>X41</th>\n",
       "      <th>X42</th>\n",
       "      <th>X51</th>\n",
       "      <th>X52</th>\n",
       "      <th>X61</th>\n",
       "      <th>X62</th>\n",
       "      <th>X71</th>\n",
       "      <th>X72</th>\n",
       "      <th>X81</th>\n",
       "      <th>X82</th>\n",
       "      <th>X91</th>\n",
       "      <th>X92</th>\n",
       "      <th>Resultado</th>\n",
       "    </tr>\n",
       "  </thead>\n",
       "  <tbody>\n",
       "    <tr>\n",
       "      <th>Y001</th>\n",
       "      <td>1</td>\n",
       "      <td>0</td>\n",
       "      <td>0</td>\n",
       "      <td>1</td>\n",
       "      <td>1</td>\n",
       "      <td>0</td>\n",
       "      <td>0</td>\n",
       "      <td>1</td>\n",
       "      <td>0</td>\n",
       "      <td>1</td>\n",
       "      <td>1</td>\n",
       "      <td>0</td>\n",
       "      <td>0</td>\n",
       "      <td>1</td>\n",
       "      <td>1</td>\n",
       "      <td>0</td>\n",
       "      <td>1</td>\n",
       "      <td>0</td>\n",
       "      <td>A</td>\n",
       "    </tr>\n",
       "    <tr>\n",
       "      <th>Y002</th>\n",
       "      <td>0</td>\n",
       "      <td>1</td>\n",
       "      <td>0</td>\n",
       "      <td>1</td>\n",
       "      <td>1</td>\n",
       "      <td>0</td>\n",
       "      <td>0</td>\n",
       "      <td>1</td>\n",
       "      <td>0</td>\n",
       "      <td>1</td>\n",
       "      <td>1</td>\n",
       "      <td>0</td>\n",
       "      <td>0</td>\n",
       "      <td>1</td>\n",
       "      <td>1</td>\n",
       "      <td>0</td>\n",
       "      <td>1</td>\n",
       "      <td>0</td>\n",
       "      <td>A</td>\n",
       "    </tr>\n",
       "    <tr>\n",
       "      <th>Y003</th>\n",
       "      <td>1</td>\n",
       "      <td>0</td>\n",
       "      <td>1</td>\n",
       "      <td>0</td>\n",
       "      <td>0</td>\n",
       "      <td>1</td>\n",
       "      <td>1</td>\n",
       "      <td>0</td>\n",
       "      <td>1</td>\n",
       "      <td>0</td>\n",
       "      <td>0</td>\n",
       "      <td>1</td>\n",
       "      <td>1</td>\n",
       "      <td>0</td>\n",
       "      <td>0</td>\n",
       "      <td>1</td>\n",
       "      <td>0</td>\n",
       "      <td>1</td>\n",
       "      <td>I</td>\n",
       "    </tr>\n",
       "    <tr>\n",
       "      <th>Y004</th>\n",
       "      <td>1</td>\n",
       "      <td>0</td>\n",
       "      <td>1</td>\n",
       "      <td>0</td>\n",
       "      <td>0</td>\n",
       "      <td>1</td>\n",
       "      <td>1</td>\n",
       "      <td>0</td>\n",
       "      <td>1</td>\n",
       "      <td>0</td>\n",
       "      <td>0</td>\n",
       "      <td>1</td>\n",
       "      <td>1</td>\n",
       "      <td>0</td>\n",
       "      <td>0</td>\n",
       "      <td>1</td>\n",
       "      <td>0</td>\n",
       "      <td>1</td>\n",
       "      <td>I</td>\n",
       "    </tr>\n",
       "    <tr>\n",
       "      <th>Y005</th>\n",
       "      <td>0</td>\n",
       "      <td>1</td>\n",
       "      <td>0</td>\n",
       "      <td>1</td>\n",
       "      <td>1</td>\n",
       "      <td>0</td>\n",
       "      <td>0</td>\n",
       "      <td>1</td>\n",
       "      <td>0</td>\n",
       "      <td>1</td>\n",
       "      <td>1</td>\n",
       "      <td>0</td>\n",
       "      <td>0</td>\n",
       "      <td>1</td>\n",
       "      <td>1</td>\n",
       "      <td>0</td>\n",
       "      <td>1</td>\n",
       "      <td>0</td>\n",
       "      <td>A</td>\n",
       "    </tr>\n",
       "  </tbody>\n",
       "</table>\n",
       "</div>"
      ],
      "text/plain": [
       "      X11  X12  X21  X22  X31  X32  X41  X42  X51  X52  X61  X62  X71  X72  \\\n",
       "Y001    1    0    0    1    1    0    0    1    0    1    1    0    0    1   \n",
       "Y002    0    1    0    1    1    0    0    1    0    1    1    0    0    1   \n",
       "Y003    1    0    1    0    0    1    1    0    1    0    0    1    1    0   \n",
       "Y004    1    0    1    0    0    1    1    0    1    0    0    1    1    0   \n",
       "Y005    0    1    0    1    1    0    0    1    0    1    1    0    0    1   \n",
       "\n",
       "      X81  X82  X91  X92 Resultado  \n",
       "Y001    1    0    1    0         A  \n",
       "Y002    1    0    1    0         A  \n",
       "Y003    0    1    0    1         I  \n",
       "Y004    0    1    0    1         I  \n",
       "Y005    1    0    1    0         A  "
      ]
     },
     "execution_count": 7,
     "metadata": {},
     "output_type": "execute_result"
    }
   ],
   "source": [
    "examples.head(5)"
   ]
  },
  {
   "cell_type": "code",
   "execution_count": 8,
   "metadata": {},
   "outputs": [],
   "source": [
    "# Variáveis do problema, conforme apostila\n",
    "ta = examples[examples.Resultado == 'A'].shape[0]  # número total de adimplentes \n",
    "ti = examples[examples.Resultado == 'I'].shape[0]  # número total de inadimplentes"
   ]
  },
  {
   "cell_type": "code",
   "execution_count": 9,
   "metadata": {},
   "outputs": [],
   "source": [
    "no_result = examples.drop([\"Resultado\"], axis = 1)"
   ]
  },
  {
   "cell_type": "code",
   "execution_count": 10,
   "metadata": {},
   "outputs": [
    {
     "data": {
      "text/html": [
       "<div>\n",
       "<style scoped>\n",
       "    .dataframe tbody tr th:only-of-type {\n",
       "        vertical-align: middle;\n",
       "    }\n",
       "\n",
       "    .dataframe tbody tr th {\n",
       "        vertical-align: top;\n",
       "    }\n",
       "\n",
       "    .dataframe thead th {\n",
       "        text-align: right;\n",
       "    }\n",
       "</style>\n",
       "<table border=\"1\" class=\"dataframe\">\n",
       "  <thead>\n",
       "    <tr style=\"text-align: right;\">\n",
       "      <th></th>\n",
       "      <th>X11</th>\n",
       "      <th>X12</th>\n",
       "      <th>X21</th>\n",
       "      <th>X22</th>\n",
       "      <th>X31</th>\n",
       "      <th>X32</th>\n",
       "      <th>X41</th>\n",
       "      <th>X42</th>\n",
       "      <th>X51</th>\n",
       "      <th>X52</th>\n",
       "      <th>X61</th>\n",
       "      <th>X62</th>\n",
       "      <th>X71</th>\n",
       "      <th>X72</th>\n",
       "      <th>X81</th>\n",
       "      <th>X82</th>\n",
       "      <th>X91</th>\n",
       "      <th>X92</th>\n",
       "    </tr>\n",
       "  </thead>\n",
       "  <tbody>\n",
       "    <tr>\n",
       "      <th>Y001</th>\n",
       "      <td>1</td>\n",
       "      <td>0</td>\n",
       "      <td>0</td>\n",
       "      <td>1</td>\n",
       "      <td>1</td>\n",
       "      <td>0</td>\n",
       "      <td>0</td>\n",
       "      <td>1</td>\n",
       "      <td>0</td>\n",
       "      <td>1</td>\n",
       "      <td>1</td>\n",
       "      <td>0</td>\n",
       "      <td>0</td>\n",
       "      <td>1</td>\n",
       "      <td>1</td>\n",
       "      <td>0</td>\n",
       "      <td>1</td>\n",
       "      <td>0</td>\n",
       "    </tr>\n",
       "    <tr>\n",
       "      <th>Y002</th>\n",
       "      <td>0</td>\n",
       "      <td>1</td>\n",
       "      <td>0</td>\n",
       "      <td>1</td>\n",
       "      <td>1</td>\n",
       "      <td>0</td>\n",
       "      <td>0</td>\n",
       "      <td>1</td>\n",
       "      <td>0</td>\n",
       "      <td>1</td>\n",
       "      <td>1</td>\n",
       "      <td>0</td>\n",
       "      <td>0</td>\n",
       "      <td>1</td>\n",
       "      <td>1</td>\n",
       "      <td>0</td>\n",
       "      <td>1</td>\n",
       "      <td>0</td>\n",
       "    </tr>\n",
       "    <tr>\n",
       "      <th>Y003</th>\n",
       "      <td>1</td>\n",
       "      <td>0</td>\n",
       "      <td>1</td>\n",
       "      <td>0</td>\n",
       "      <td>0</td>\n",
       "      <td>1</td>\n",
       "      <td>1</td>\n",
       "      <td>0</td>\n",
       "      <td>1</td>\n",
       "      <td>0</td>\n",
       "      <td>0</td>\n",
       "      <td>1</td>\n",
       "      <td>1</td>\n",
       "      <td>0</td>\n",
       "      <td>0</td>\n",
       "      <td>1</td>\n",
       "      <td>0</td>\n",
       "      <td>1</td>\n",
       "    </tr>\n",
       "    <tr>\n",
       "      <th>Y004</th>\n",
       "      <td>1</td>\n",
       "      <td>0</td>\n",
       "      <td>1</td>\n",
       "      <td>0</td>\n",
       "      <td>0</td>\n",
       "      <td>1</td>\n",
       "      <td>1</td>\n",
       "      <td>0</td>\n",
       "      <td>1</td>\n",
       "      <td>0</td>\n",
       "      <td>0</td>\n",
       "      <td>1</td>\n",
       "      <td>1</td>\n",
       "      <td>0</td>\n",
       "      <td>0</td>\n",
       "      <td>1</td>\n",
       "      <td>0</td>\n",
       "      <td>1</td>\n",
       "    </tr>\n",
       "    <tr>\n",
       "      <th>Y005</th>\n",
       "      <td>0</td>\n",
       "      <td>1</td>\n",
       "      <td>0</td>\n",
       "      <td>1</td>\n",
       "      <td>1</td>\n",
       "      <td>0</td>\n",
       "      <td>0</td>\n",
       "      <td>1</td>\n",
       "      <td>0</td>\n",
       "      <td>1</td>\n",
       "      <td>1</td>\n",
       "      <td>0</td>\n",
       "      <td>0</td>\n",
       "      <td>1</td>\n",
       "      <td>1</td>\n",
       "      <td>0</td>\n",
       "      <td>1</td>\n",
       "      <td>0</td>\n",
       "    </tr>\n",
       "  </tbody>\n",
       "</table>\n",
       "</div>"
      ],
      "text/plain": [
       "      X11  X12  X21  X22  X31  X32  X41  X42  X51  X52  X61  X62  X71  X72  \\\n",
       "Y001    1    0    0    1    1    0    0    1    0    1    1    0    0    1   \n",
       "Y002    0    1    0    1    1    0    0    1    0    1    1    0    0    1   \n",
       "Y003    1    0    1    0    0    1    1    0    1    0    0    1    1    0   \n",
       "Y004    1    0    1    0    0    1    1    0    1    0    0    1    1    0   \n",
       "Y005    0    1    0    1    1    0    0    1    0    1    1    0    0    1   \n",
       "\n",
       "      X81  X82  X91  X92  \n",
       "Y001    1    0    1    0  \n",
       "Y002    1    0    1    0  \n",
       "Y003    0    1    0    1  \n",
       "Y004    0    1    0    1  \n",
       "Y005    1    0    1    0  "
      ]
     },
     "execution_count": 10,
     "metadata": {},
     "output_type": "execute_result"
    }
   ],
   "source": [
    "no_result.head(5)"
   ]
  },
  {
   "cell_type": "code",
   "execution_count": 11,
   "metadata": {},
   "outputs": [],
   "source": [
    "# Cria uma matriz de tamanho equivalente a matriz no_result\n",
    "random_values = np.random.uniform(low=-1., high=1., size=no_result.shape)"
   ]
  },
  {
   "cell_type": "code",
   "execution_count": 12,
   "metadata": {},
   "outputs": [
    {
     "data": {
      "text/plain": [
       "array([[-0.79246879, -0.08690969, -0.66109876, ..., -0.80630245,\n",
       "         0.17371935,  0.92266564],\n",
       "       [ 0.45959621,  0.00556263,  0.17305229, ...,  0.45149767,\n",
       "         0.44245359,  0.02065674],\n",
       "       [-0.88309193, -0.27866566, -0.24321182, ..., -0.18532476,\n",
       "        -0.12889785, -0.19641921],\n",
       "       ...,\n",
       "       [-0.01113689, -0.46624517, -0.77276606, ..., -0.09733311,\n",
       "        -0.48108768,  0.84984458],\n",
       "       [ 0.64841945, -0.83140768,  0.79550414, ..., -0.75955208,\n",
       "         0.70963087, -0.34736416],\n",
       "       [ 0.29150978, -0.64329762, -0.65402071, ...,  0.45850837,\n",
       "        -0.20731019,  0.3700659 ]])"
      ]
     },
     "execution_count": 12,
     "metadata": {},
     "output_type": "execute_result"
    }
   ],
   "source": [
    "random_values"
   ]
  },
  {
   "cell_type": "code",
   "execution_count": 13,
   "metadata": {},
   "outputs": [],
   "source": [
    "cr = no_result * random_values"
   ]
  },
  {
   "cell_type": "code",
   "execution_count": 14,
   "metadata": {},
   "outputs": [
    {
     "data": {
      "text/html": [
       "<div>\n",
       "<style scoped>\n",
       "    .dataframe tbody tr th:only-of-type {\n",
       "        vertical-align: middle;\n",
       "    }\n",
       "\n",
       "    .dataframe tbody tr th {\n",
       "        vertical-align: top;\n",
       "    }\n",
       "\n",
       "    .dataframe thead th {\n",
       "        text-align: right;\n",
       "    }\n",
       "</style>\n",
       "<table border=\"1\" class=\"dataframe\">\n",
       "  <thead>\n",
       "    <tr style=\"text-align: right;\">\n",
       "      <th></th>\n",
       "      <th>X11</th>\n",
       "      <th>X12</th>\n",
       "      <th>X21</th>\n",
       "      <th>X22</th>\n",
       "      <th>X31</th>\n",
       "      <th>X32</th>\n",
       "      <th>X41</th>\n",
       "      <th>X42</th>\n",
       "      <th>X51</th>\n",
       "      <th>X52</th>\n",
       "      <th>X61</th>\n",
       "      <th>X62</th>\n",
       "      <th>X71</th>\n",
       "      <th>X72</th>\n",
       "      <th>X81</th>\n",
       "      <th>X82</th>\n",
       "      <th>X91</th>\n",
       "      <th>X92</th>\n",
       "    </tr>\n",
       "  </thead>\n",
       "  <tbody>\n",
       "    <tr>\n",
       "      <th>Y001</th>\n",
       "      <td>-0.792469</td>\n",
       "      <td>-0.000000</td>\n",
       "      <td>-0.000000</td>\n",
       "      <td>0.803222</td>\n",
       "      <td>0.740166</td>\n",
       "      <td>0.000000</td>\n",
       "      <td>-0.000000</td>\n",
       "      <td>-0.937999</td>\n",
       "      <td>-0.000000</td>\n",
       "      <td>0.417095</td>\n",
       "      <td>-0.979945</td>\n",
       "      <td>-0.000000</td>\n",
       "      <td>0.000000</td>\n",
       "      <td>-0.065821</td>\n",
       "      <td>0.087170</td>\n",
       "      <td>-0.000000</td>\n",
       "      <td>0.173719</td>\n",
       "      <td>0.000000</td>\n",
       "    </tr>\n",
       "    <tr>\n",
       "      <th>Y002</th>\n",
       "      <td>0.000000</td>\n",
       "      <td>0.005563</td>\n",
       "      <td>0.000000</td>\n",
       "      <td>0.892146</td>\n",
       "      <td>0.256371</td>\n",
       "      <td>-0.000000</td>\n",
       "      <td>-0.000000</td>\n",
       "      <td>-0.189999</td>\n",
       "      <td>0.000000</td>\n",
       "      <td>0.825324</td>\n",
       "      <td>-0.087546</td>\n",
       "      <td>-0.000000</td>\n",
       "      <td>0.000000</td>\n",
       "      <td>-0.066459</td>\n",
       "      <td>0.856303</td>\n",
       "      <td>0.000000</td>\n",
       "      <td>0.442454</td>\n",
       "      <td>0.000000</td>\n",
       "    </tr>\n",
       "    <tr>\n",
       "      <th>Y003</th>\n",
       "      <td>-0.883092</td>\n",
       "      <td>-0.000000</td>\n",
       "      <td>-0.243212</td>\n",
       "      <td>-0.000000</td>\n",
       "      <td>0.000000</td>\n",
       "      <td>0.727333</td>\n",
       "      <td>0.920057</td>\n",
       "      <td>0.000000</td>\n",
       "      <td>0.191235</td>\n",
       "      <td>-0.000000</td>\n",
       "      <td>-0.000000</td>\n",
       "      <td>-0.405025</td>\n",
       "      <td>-0.125252</td>\n",
       "      <td>0.000000</td>\n",
       "      <td>0.000000</td>\n",
       "      <td>-0.185325</td>\n",
       "      <td>-0.000000</td>\n",
       "      <td>-0.196419</td>\n",
       "    </tr>\n",
       "    <tr>\n",
       "      <th>Y004</th>\n",
       "      <td>0.792947</td>\n",
       "      <td>0.000000</td>\n",
       "      <td>0.714261</td>\n",
       "      <td>-0.000000</td>\n",
       "      <td>-0.000000</td>\n",
       "      <td>-0.028885</td>\n",
       "      <td>0.449441</td>\n",
       "      <td>0.000000</td>\n",
       "      <td>-0.946584</td>\n",
       "      <td>-0.000000</td>\n",
       "      <td>-0.000000</td>\n",
       "      <td>-0.848495</td>\n",
       "      <td>0.815659</td>\n",
       "      <td>0.000000</td>\n",
       "      <td>0.000000</td>\n",
       "      <td>0.160465</td>\n",
       "      <td>0.000000</td>\n",
       "      <td>0.398296</td>\n",
       "    </tr>\n",
       "    <tr>\n",
       "      <th>Y005</th>\n",
       "      <td>-0.000000</td>\n",
       "      <td>0.335513</td>\n",
       "      <td>0.000000</td>\n",
       "      <td>-0.261356</td>\n",
       "      <td>0.598860</td>\n",
       "      <td>-0.000000</td>\n",
       "      <td>-0.000000</td>\n",
       "      <td>-0.518543</td>\n",
       "      <td>0.000000</td>\n",
       "      <td>-0.973796</td>\n",
       "      <td>-0.870914</td>\n",
       "      <td>-0.000000</td>\n",
       "      <td>0.000000</td>\n",
       "      <td>0.742737</td>\n",
       "      <td>-0.734927</td>\n",
       "      <td>0.000000</td>\n",
       "      <td>0.081829</td>\n",
       "      <td>0.000000</td>\n",
       "    </tr>\n",
       "  </tbody>\n",
       "</table>\n",
       "</div>"
      ],
      "text/plain": [
       "           X11       X12       X21       X22       X31       X32       X41  \\\n",
       "Y001 -0.792469 -0.000000 -0.000000  0.803222  0.740166  0.000000 -0.000000   \n",
       "Y002  0.000000  0.005563  0.000000  0.892146  0.256371 -0.000000 -0.000000   \n",
       "Y003 -0.883092 -0.000000 -0.243212 -0.000000  0.000000  0.727333  0.920057   \n",
       "Y004  0.792947  0.000000  0.714261 -0.000000 -0.000000 -0.028885  0.449441   \n",
       "Y005 -0.000000  0.335513  0.000000 -0.261356  0.598860 -0.000000 -0.000000   \n",
       "\n",
       "           X42       X51       X52       X61       X62       X71       X72  \\\n",
       "Y001 -0.937999 -0.000000  0.417095 -0.979945 -0.000000  0.000000 -0.065821   \n",
       "Y002 -0.189999  0.000000  0.825324 -0.087546 -0.000000  0.000000 -0.066459   \n",
       "Y003  0.000000  0.191235 -0.000000 -0.000000 -0.405025 -0.125252  0.000000   \n",
       "Y004  0.000000 -0.946584 -0.000000 -0.000000 -0.848495  0.815659  0.000000   \n",
       "Y005 -0.518543  0.000000 -0.973796 -0.870914 -0.000000  0.000000  0.742737   \n",
       "\n",
       "           X81       X82       X91       X92  \n",
       "Y001  0.087170 -0.000000  0.173719  0.000000  \n",
       "Y002  0.856303  0.000000  0.442454  0.000000  \n",
       "Y003  0.000000 -0.185325 -0.000000 -0.196419  \n",
       "Y004  0.000000  0.160465  0.000000  0.398296  \n",
       "Y005 -0.734927  0.000000  0.081829  0.000000  "
      ]
     },
     "execution_count": 14,
     "metadata": {},
     "output_type": "execute_result"
    }
   ],
   "source": [
    "cr.head(5)"
   ]
  },
  {
   "cell_type": "code",
   "execution_count": 15,
   "metadata": {},
   "outputs": [],
   "source": [
    "cr_sum = cr.sum(axis=1)"
   ]
  },
  {
   "cell_type": "code",
   "execution_count": 16,
   "metadata": {},
   "outputs": [
    {
     "data": {
      "text/plain": [
       "Y001   -0.554861\n",
       "Y002    2.934155\n",
       "Y003   -0.199701\n",
       "Y004    1.507106\n",
       "Y005   -1.600596\n",
       "dtype: float64"
      ]
     },
     "execution_count": 16,
     "metadata": {},
     "output_type": "execute_result"
    }
   ],
   "source": [
    "cr_sum.head(5)"
   ]
  },
  {
   "cell_type": "code",
   "execution_count": 17,
   "metadata": {},
   "outputs": [
    {
     "data": {
      "text/plain": [
       "Y001    A\n",
       "Y002    A\n",
       "Y003    I\n",
       "Y004    I\n",
       "Y005    A\n",
       "Name: Resultado, dtype: object"
      ]
     },
     "execution_count": 17,
     "metadata": {},
     "output_type": "execute_result"
    }
   ],
   "source": [
    "pd.Series(examples.Resultado).head(5)"
   ]
  },
  {
   "cell_type": "code",
   "execution_count": 18,
   "metadata": {},
   "outputs": [
    {
     "data": {
      "text/plain": [
       "Y001   -0.554861\n",
       "Y002    2.934155\n",
       "Y003   -0.199701\n",
       "Y004    1.507106\n",
       "Y005   -1.600596\n",
       "dtype: float64"
      ]
     },
     "execution_count": 18,
     "metadata": {},
     "output_type": "execute_result"
    }
   ],
   "source": [
    "cr_sum.head(5)"
   ]
  },
  {
   "cell_type": "code",
   "execution_count": 19,
   "metadata": {},
   "outputs": [],
   "source": [
    "dict = {\n",
    "    \"summation\": pd.Series(cr_sum),\n",
    "    \"label\": pd.Series(examples.Resultado)\n",
    "}"
   ]
  },
  {
   "cell_type": "code",
   "execution_count": 20,
   "metadata": {},
   "outputs": [],
   "source": [
    "labeled_cr = pd.DataFrame(dict)"
   ]
  },
  {
   "cell_type": "code",
   "execution_count": 21,
   "metadata": {},
   "outputs": [
    {
     "data": {
      "text/html": [
       "<div>\n",
       "<style scoped>\n",
       "    .dataframe tbody tr th:only-of-type {\n",
       "        vertical-align: middle;\n",
       "    }\n",
       "\n",
       "    .dataframe tbody tr th {\n",
       "        vertical-align: top;\n",
       "    }\n",
       "\n",
       "    .dataframe thead th {\n",
       "        text-align: right;\n",
       "    }\n",
       "</style>\n",
       "<table border=\"1\" class=\"dataframe\">\n",
       "  <thead>\n",
       "    <tr style=\"text-align: right;\">\n",
       "      <th></th>\n",
       "      <th>summation</th>\n",
       "      <th>label</th>\n",
       "    </tr>\n",
       "  </thead>\n",
       "  <tbody>\n",
       "    <tr>\n",
       "      <th>Y001</th>\n",
       "      <td>-0.554861</td>\n",
       "      <td>A</td>\n",
       "    </tr>\n",
       "    <tr>\n",
       "      <th>Y002</th>\n",
       "      <td>2.934155</td>\n",
       "      <td>A</td>\n",
       "    </tr>\n",
       "    <tr>\n",
       "      <th>Y003</th>\n",
       "      <td>-0.199701</td>\n",
       "      <td>I</td>\n",
       "    </tr>\n",
       "    <tr>\n",
       "      <th>Y004</th>\n",
       "      <td>1.507106</td>\n",
       "      <td>I</td>\n",
       "    </tr>\n",
       "    <tr>\n",
       "      <th>Y005</th>\n",
       "      <td>-1.600596</td>\n",
       "      <td>A</td>\n",
       "    </tr>\n",
       "  </tbody>\n",
       "</table>\n",
       "</div>"
      ],
      "text/plain": [
       "      summation label\n",
       "Y001  -0.554861     A\n",
       "Y002   2.934155     A\n",
       "Y003  -0.199701     I\n",
       "Y004   1.507106     I\n",
       "Y005  -1.600596     A"
      ]
     },
     "execution_count": 21,
     "metadata": {},
     "output_type": "execute_result"
    }
   ],
   "source": [
    "labeled_cr.head(5)"
   ]
  },
  {
   "cell_type": "code",
   "execution_count": 22,
   "metadata": {},
   "outputs": [],
   "source": [
    "nac = labeled_cr[(labeled_cr.summation > 0) & (labeled_cr.label == \"A\")]\n",
    "nic = labeled_cr[(labeled_cr.summation < 0) & (labeled_cr.label == \"I\")]"
   ]
  },
  {
   "cell_type": "code",
   "execution_count": 23,
   "metadata": {},
   "outputs": [
    {
     "data": {
      "text/html": [
       "<div>\n",
       "<style scoped>\n",
       "    .dataframe tbody tr th:only-of-type {\n",
       "        vertical-align: middle;\n",
       "    }\n",
       "\n",
       "    .dataframe tbody tr th {\n",
       "        vertical-align: top;\n",
       "    }\n",
       "\n",
       "    .dataframe thead th {\n",
       "        text-align: right;\n",
       "    }\n",
       "</style>\n",
       "<table border=\"1\" class=\"dataframe\">\n",
       "  <thead>\n",
       "    <tr style=\"text-align: right;\">\n",
       "      <th></th>\n",
       "      <th>summation</th>\n",
       "      <th>label</th>\n",
       "    </tr>\n",
       "  </thead>\n",
       "  <tbody>\n",
       "    <tr>\n",
       "      <th>Y002</th>\n",
       "      <td>2.934155</td>\n",
       "      <td>A</td>\n",
       "    </tr>\n",
       "    <tr>\n",
       "      <th>Y007</th>\n",
       "      <td>0.873443</td>\n",
       "      <td>A</td>\n",
       "    </tr>\n",
       "    <tr>\n",
       "      <th>Y012</th>\n",
       "      <td>1.460904</td>\n",
       "      <td>A</td>\n",
       "    </tr>\n",
       "    <tr>\n",
       "      <th>Y013</th>\n",
       "      <td>2.924234</td>\n",
       "      <td>A</td>\n",
       "    </tr>\n",
       "    <tr>\n",
       "      <th>Y015</th>\n",
       "      <td>0.087627</td>\n",
       "      <td>A</td>\n",
       "    </tr>\n",
       "  </tbody>\n",
       "</table>\n",
       "</div>"
      ],
      "text/plain": [
       "      summation label\n",
       "Y002   2.934155     A\n",
       "Y007   0.873443     A\n",
       "Y012   1.460904     A\n",
       "Y013   2.924234     A\n",
       "Y015   0.087627     A"
      ]
     },
     "execution_count": 23,
     "metadata": {},
     "output_type": "execute_result"
    }
   ],
   "source": [
    "nac.head(5) # O cálculo do NAC e NIC ainda não fazem sentido..."
   ]
  },
  {
   "cell_type": "code",
   "execution_count": 24,
   "metadata": {},
   "outputs": [],
   "source": [
    "# Cria um array de tamanho equivalente à linha da matriz, parece mais conveniente que a abordagem anterior\n",
    "random_theta = np.random.uniform(low=-1., high=1., size=no_result.shape[1])"
   ]
  },
  {
   "cell_type": "code",
   "execution_count": 25,
   "metadata": {},
   "outputs": [
    {
     "data": {
      "text/plain": [
       "0.49759615384615385"
      ]
     },
     "execution_count": 25,
     "metadata": {},
     "output_type": "execute_result"
    }
   ],
   "source": [
    "fitness(random_theta, no_result, examples)"
   ]
  },
  {
   "cell_type": "code",
   "execution_count": 26,
   "metadata": {},
   "outputs": [
    {
     "data": {
      "text/plain": [
       "array([[-0.59038486],\n",
       "       [ 0.27237952],\n",
       "       [-0.41127318],\n",
       "       [-0.48308662],\n",
       "       [-0.25974844],\n",
       "       [-0.84556357],\n",
       "       [ 0.15298433],\n",
       "       [-0.13699439],\n",
       "       [ 0.48975905],\n",
       "       [-0.59719941],\n",
       "       [-0.41194907],\n",
       "       [-0.44256144],\n",
       "       [ 0.31637698],\n",
       "       [-0.55056965],\n",
       "       [ 0.85582588],\n",
       "       [ 0.44504727],\n",
       "       [ 0.10046597],\n",
       "       [-0.02089267]])"
      ]
     },
     "execution_count": 26,
     "metadata": {},
     "output_type": "execute_result"
    }
   ],
   "source": [
    "cr_size = no_result.shape[1]\n",
    "gen_cr(cr_size)"
   ]
  },
  {
   "cell_type": "code",
   "execution_count": 27,
   "metadata": {},
   "outputs": [
    {
     "data": {
      "text/plain": [
       "array([[ 0.16748531,  0.40744378,  0.40567316,  0.53816096,  0.77859649,\n",
       "         0.51366725,  0.1496155 , -0.9493547 , -0.45165378,  0.71647243,\n",
       "         0.50162341,  0.7726995 ,  0.57354729,  0.12383533, -0.02373492,\n",
       "        -0.04396867,  0.70547728,  0.42493993],\n",
       "       [ 0.16748531,  0.40744378,  0.40567316,  0.53816096,  0.77859649,\n",
       "         0.51366725,  0.1496155 , -0.9493547 , -0.45165378,  0.71647243,\n",
       "         0.50162341,  0.7726995 ,  0.57354729, -0.54252488, -0.66262839,\n",
       "        -0.02619696, -0.0783992 ,  0.42493993],\n",
       "       [ 0.16748531,  0.40744378,  0.40567316,  0.53816096,  0.77859649,\n",
       "        -0.48967858,  0.65187856,  0.34968272, -0.16353688, -0.99727864,\n",
       "         0.34758623,  0.01745563, -0.15443481,  0.12383533, -0.02373492,\n",
       "        -0.04396867,  0.70547728,  0.42493993]])"
      ]
     },
     "execution_count": 27,
     "metadata": {},
     "output_type": "execute_result"
    }
   ],
   "source": [
    "crossover(gen_cr(cr_size), gen_cr(cr_size), 3)"
   ]
  },
  {
   "cell_type": "code",
   "execution_count": 28,
   "metadata": {},
   "outputs": [
    {
     "data": {
      "text/plain": [
       "array([[-0.55331468],\n",
       "       [-0.62676463],\n",
       "       [ 0.18635536],\n",
       "       [ 0.88636686],\n",
       "       [-0.91702394],\n",
       "       [-0.06456671],\n",
       "       [-0.11420675],\n",
       "       [-0.52179383],\n",
       "       [ 0.30512454],\n",
       "       [ 0.77218739],\n",
       "       [-0.33760478],\n",
       "       [-0.10741304],\n",
       "       [ 0.04187682],\n",
       "       [ 0.31107237],\n",
       "       [ 0.82346082],\n",
       "       [-0.36839674],\n",
       "       [-0.52049656],\n",
       "       [ 0.12544004]])"
      ]
     },
     "execution_count": 28,
     "metadata": {},
     "output_type": "execute_result"
    }
   ],
   "source": [
    "mutate(gen_cr(cr_size))"
   ]
  },
  {
   "cell_type": "code",
   "execution_count": 56,
   "metadata": {},
   "outputs": [],
   "source": [
    "cr_database = gen_cr(no_result.shape[1], 6) # gera os 6 cromossomos"
   ]
  },
  {
   "cell_type": "code",
   "execution_count": 57,
   "metadata": {},
   "outputs": [
    {
     "data": {
      "text/plain": [
       "array([3, 2])"
      ]
     },
     "execution_count": 57,
     "metadata": {},
     "output_type": "execute_result"
    }
   ],
   "source": [
    "parent_indexes = np.random.randint(cr_database.shape[0], size=2)\n",
    "parent_indexes"
   ]
  },
  {
   "cell_type": "code",
   "execution_count": 58,
   "metadata": {},
   "outputs": [],
   "source": [
    "first = cr_database[parent_indexes[0]]\n",
    "second = cr_database[parent_indexes[1]]\n",
    "offspring1 = crossover(first, second)"
   ]
  },
  {
   "cell_type": "code",
   "execution_count": 72,
   "metadata": {},
   "outputs": [
    {
     "name": "stdout",
     "output_type": "stream",
     "text": [
      "[[ 0.38738386 -0.5035229  -0.43141642  0.18030899  0.96386627 -0.52083227\n",
      "   0.30306998  0.43418123  0.2024884   0.77606584 -0.53613004 -0.72472368\n",
      "  -0.10331059 -0.47455688  0.35019595 -0.45609653  0.3051136  -0.93514051]\n",
      " [ 0.38738386 -0.5035229  -0.43141642  0.18030899  0.96386627 -0.52083227\n",
      "   0.30306998  0.43418123  0.2024884   0.77606584 -0.53613004 -0.72472368\n",
      "  -0.69318665 -0.98165164  0.04383334 -0.45609653  0.3051136  -0.93514051]\n",
      " [ 0.38738386 -0.5035229  -0.43141642  0.18030899  0.96386627 -0.52083227\n",
      "  -0.80038408  0.49226102  0.54804165  0.92320022  0.35411562 -0.68164935\n",
      "  -0.10331059 -0.47455688  0.35019595 -0.45609653  0.3051136  -0.93514051]\n",
      " [ 0.38738386 -0.5035229  -0.43141642  0.18030899  0.96386627 -0.52083227\n",
      "   0.30306998  0.43418123  0.2024884   0.77606584 -0.53613004 -0.72472368\n",
      "  -0.10331059 -0.47455688  0.35019595  0.52441603  0.3051136  -0.93514051]\n",
      " [ 0.38738386 -0.5035229  -0.43141642  0.18030899  0.96386627 -0.52083227\n",
      "   0.55325527  0.43418123  0.2024884   0.77606584 -0.53613004 -0.72472368\n",
      "  -0.69318665 -0.98165164  0.04383334 -0.45609653  0.3051136  -0.93514051]\n",
      " [ 0.38738386 -0.5035229  -0.43141642  0.18030899  0.96386627 -0.52083227\n",
      "  -0.80038408  0.49226102  0.54804165  0.92320022  0.35411562 -0.68164935\n",
      "  -0.10331059 -0.47455688  0.35019595 -0.45609653  0.04143457 -0.93514051]]\n"
     ]
    }
   ],
   "source": [
    "offspring2 = offspring1.copy()\n",
    "for i in range(len(offspring2)):\n",
    "    offspring2[i] = mutate(offspring2[i])\n",
    "offspring = np.concatenate((offspring1, offspring2))"
   ]
  },
  {
   "cell_type": "code",
   "execution_count": 78,
   "metadata": {},
   "outputs": [],
   "source": [
    "db_fitness = [fitness(theta, no_result, examples) for theta in iter(cr_database)]"
   ]
  },
  {
   "cell_type": "code",
   "execution_count": 107,
   "metadata": {},
   "outputs": [],
   "source": [
    "offspring_fitness = [fitness(theta, no_result, examples) for theta in iter(offspring)]"
   ]
  },
  {
   "cell_type": "code",
   "execution_count": 108,
   "metadata": {},
   "outputs": [
    {
     "data": {
      "text/plain": [
       "[0.3307151715584952,\n",
       " 0.2167804094741068,\n",
       " 0.30833333333333335,\n",
       " 0.4384057971014493,\n",
       " 0.376,\n",
       " 0.2688]"
      ]
     },
     "execution_count": 108,
     "metadata": {},
     "output_type": "execute_result"
    }
   ],
   "source": [
    "offspring_fitness"
   ]
  },
  {
   "cell_type": "code",
   "execution_count": 112,
   "metadata": {},
   "outputs": [],
   "source": [
    "max1, max2 = max2(offspring_fitness)"
   ]
  },
  {
   "cell_type": "code",
   "execution_count": 113,
   "metadata": {},
   "outputs": [],
   "source": [
    "min1, min2 = min2(db_fitness)"
   ]
  },
  {
   "cell_type": "code",
   "execution_count": 114,
   "metadata": {},
   "outputs": [
    {
     "name": "stdout",
     "output_type": "stream",
     "text": [
      "antes\n",
      "[[ 0.63428578 -0.2469513   0.19137826  0.66522184 -0.16358979 -0.20090695\n",
      "  -0.84231704 -0.34406413 -0.35570383 -0.09092817  0.14320893  0.00217052\n",
      "  -0.50126606  0.96170011 -0.21955565  0.48156012  0.40539212  0.37281646]\n",
      " [-0.68691878  0.28531932  0.2484147   0.01014519  0.53841165  0.00548801\n",
      "  -0.19276649 -0.28410686  0.76940517  0.13194323 -0.99249141 -0.53526052\n",
      "  -0.3084102   0.41702338 -0.4608769   0.67648999 -0.36575957  0.42195965]\n",
      " [ 0.72264322  0.88749292  0.93178459 -0.00388039  0.34394539 -0.21030285\n",
      "  -0.80038408  0.49226102  0.54804165  0.92320022  0.35411562 -0.68164935\n",
      "  -0.10331059 -0.47455688  0.35019595 -0.45609653  0.3051136  -0.93514051]\n",
      " [ 0.38738386 -0.5035229  -0.43141642  0.18030899  0.96386627 -0.52083227\n",
      "   0.30306998  0.43418123  0.2024884   0.77606584 -0.53613004 -0.72472368\n",
      "  -0.69318665 -0.98165164  0.04383334 -0.33448754  0.97715559  0.27575414]\n",
      " [-0.56736151 -0.61674629  0.87093702  0.21958304 -0.55553701  0.61338662\n",
      "  -0.09078014  0.60537022  0.12214325  0.23086167 -0.56990746  0.44231546\n",
      "  -0.83421279  0.87883739 -0.79365771 -0.87869748 -0.178465   -0.74665423]\n",
      " [ 0.12485427 -0.16074225 -0.45801241  0.07302049  0.6230302   0.20076787\n",
      "   0.8272598  -0.43449617  0.52155202  0.84605332  0.69793677 -0.27889265\n",
      "   0.31863669  0.61817273  0.50787841 -0.08553998  0.58664172 -0.15799165]]\n",
      "depois\n",
      "[[ 0.63428578 -0.2469513   0.19137826  0.66522184 -0.16358979 -0.20090695\n",
      "  -0.84231704 -0.34406413 -0.35570383 -0.09092817  0.14320893  0.00217052\n",
      "  -0.50126606  0.96170011 -0.21955565  0.48156012  0.40539212  0.37281646]\n",
      " [-0.68691878  0.28531932  0.2484147   0.01014519  0.53841165  0.00548801\n",
      "  -0.19276649 -0.28410686  0.76940517  0.13194323 -0.99249141 -0.53526052\n",
      "  -0.3084102   0.41702338 -0.4608769   0.67648999 -0.36575957  0.42195965]\n",
      " [ 0.38738386 -0.5035229  -0.43141642  0.18030899  0.96386627 -0.52083227\n",
      "   0.55325527  0.43418123  0.2024884   0.77606584 -0.53613004 -0.72472368\n",
      "  -0.69318665 -0.98165164  0.04383334 -0.45609653  0.3051136  -0.93514051]\n",
      " [ 0.38738386 -0.5035229  -0.43141642  0.18030899  0.96386627 -0.52083227\n",
      "   0.30306998  0.43418123  0.2024884   0.77606584 -0.53613004 -0.72472368\n",
      "  -0.69318665 -0.98165164  0.04383334 -0.33448754  0.97715559  0.27575414]\n",
      " [-0.56736151 -0.61674629  0.87093702  0.21958304 -0.55553701  0.61338662\n",
      "  -0.09078014  0.60537022  0.12214325  0.23086167 -0.56990746  0.44231546\n",
      "  -0.83421279  0.87883739 -0.79365771 -0.87869748 -0.178465   -0.74665423]\n",
      " [ 0.38738386 -0.5035229  -0.43141642  0.18030899  0.96386627 -0.52083227\n",
      "   0.30306998  0.43418123  0.2024884   0.77606584 -0.53613004 -0.72472368\n",
      "  -0.10331059 -0.47455688  0.35019595  0.52441603  0.3051136  -0.93514051]]\n"
     ]
    }
   ],
   "source": [
    "print(\"antes\")\n",
    "print(cr_database)\n",
    "cr_database[db_fitness.index(min1)] = offspring[offspring_fitness.index(max1)]\n",
    "cr_database[db_fitness.index(min2)] = offspring[offspring_fitness.index(max2)]\n",
    "print(\"depois\")\n",
    "print(cr_database)"
   ]
  },
  {
   "cell_type": "code",
   "execution_count": 116,
   "metadata": {},
   "outputs": [],
   "source": [
    "fit = [fitness(theta, no_result, examples) for theta in iter(cr_database)]"
   ]
  },
  {
   "cell_type": "code",
   "execution_count": 126,
   "metadata": {},
   "outputs": [],
   "source": [
    "xx = np.array(fit).cumsum()"
   ]
  },
  {
   "cell_type": "code",
   "execution_count": 128,
   "metadata": {},
   "outputs": [
    {
     "data": {
      "text/plain": [
       "array([0.45898359, 0.83842056, 1.17402875, 1.62806327, 1.68431327,\n",
       "       2.15346912])"
      ]
     },
     "execution_count": 128,
     "metadata": {},
     "output_type": "execute_result"
    }
   ],
   "source": [
    "xx"
   ]
  },
  {
   "cell_type": "code",
   "execution_count": 131,
   "metadata": {},
   "outputs": [
    {
     "data": {
      "text/plain": [
       "1.708241734190329"
      ]
     },
     "execution_count": 131,
     "metadata": {},
     "output_type": "execute_result"
    }
   ],
   "source": [
    "rnd.uniform(0, max(xx))"
   ]
  },
  {
   "cell_type": "code",
   "execution_count": null,
   "metadata": {},
   "outputs": [],
   "source": []
  },
  {
   "cell_type": "code",
   "execution_count": null,
   "metadata": {},
   "outputs": [],
   "source": []
  }
 ],
 "metadata": {
  "kernelspec": {
   "display_name": "Python 3",
   "language": "python",
   "name": "python3"
  },
  "language_info": {
   "codemirror_mode": {
    "name": "ipython",
    "version": 3
   },
   "file_extension": ".py",
   "mimetype": "text/x-python",
   "name": "python",
   "nbconvert_exporter": "python",
   "pygments_lexer": "ipython3",
   "version": "3.6.5"
  }
 },
 "nbformat": 4,
 "nbformat_minor": 2
}
